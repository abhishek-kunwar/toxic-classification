{
 "cells": [
  {
   "cell_type": "code",
   "execution_count": 48,
   "metadata": {},
   "outputs": [
    {
     "name": "stderr",
     "output_type": "stream",
     "text": [
      "C:\\Users\\abhis_000\\Anaconda3\\lib\\site-packages\\sklearn\\ensemble\\weight_boosting.py:29: DeprecationWarning: numpy.core.umath_tests is an internal NumPy module and should not be imported. It will be removed in a future NumPy release.\n",
      "  from numpy.core.umath_tests import inner1d\n"
     ]
    }
   ],
   "source": [
    "#importing the libraries\n",
    "import pandas as pd\n",
    "import matplotlib.pyplot as plt\n",
    "import scipy.stats as ss\n",
    "import sys\n",
    "from scipy.stats import ks_2samp\n",
    "import matplotlib.pyplot as plt\n",
    "import nltk\n",
    "import numpy as np\n",
    "import re \n",
    "import pandas as pd\n",
    "import string\n",
    "import seaborn as sns\n",
    "\n",
    "from nltk.corpus import stopwords  # Remove useless words\n",
    "from nltk.stem.lancaster import LancasterStemmer  # Convert words to base form; \n",
    "\n",
    "# Import packages that help us to create document-term matrix\n",
    "from sklearn.feature_extraction.text import CountVectorizer, TfidfVectorizer\n",
    "from sklearn import preprocessing\n",
    "from sklearn.feature_selection import SelectFromModel\n",
    "from sklearn.model_selection import train_test_split, KFold, cross_val_score\n",
    "from sklearn.metrics import f1_score, precision_score, recall_score, precision_recall_curve, fbeta_score, confusion_matrix\n",
    "from sklearn.metrics import roc_auc_score, roc_curve\n",
    "# Import ML algos\n",
    "from sklearn.naive_bayes import MultinomialNB\n",
    "from sklearn.svm import LinearSVC\n",
    "from sklearn.ensemble import RandomForestClassifier"
   ]
  },
  {
   "cell_type": "markdown",
   "metadata": {},
   "source": [
    "# Training has two different approach\n",
    "\n",
    "# 1 . Using BLSTM deep learning approach\n",
    "# 2.  Trained with different models and selection was done on F1 score."
   ]
  },
  {
   "cell_type": "markdown",
   "metadata": {},
   "source": [
    "# first approach"
   ]
  },
  {
   "cell_type": "code",
   "execution_count": 2,
   "metadata": {},
   "outputs": [],
   "source": [
    "#loading the training data\n",
    "training_data = pd.read_csv('../Data/train.csv/train.csv')"
   ]
  },
  {
   "cell_type": "code",
   "execution_count": 3,
   "metadata": {},
   "outputs": [
    {
     "name": "stdout",
     "output_type": "stream",
     "text": [
      "                  id                                       comment_text  \\\n",
      "0   0000997932d777bf  Explanation\\nWhy the edits made under my usern...   \n",
      "1   000103f0d9cfb60f  D'aww! He matches this background colour I'm s...   \n",
      "2   000113f07ec002fd  Hey man, I'm really not trying to edit war. It...   \n",
      "3   0001b41b1c6bb37e  \"\\nMore\\nI can't make any real suggestions on ...   \n",
      "4   0001d958c54c6e35  You, sir, are my hero. Any chance you remember...   \n",
      "5   00025465d4725e87  \"\\n\\nCongratulations from me as well, use the ...   \n",
      "6   0002bcb3da6cb337       COCKSUCKER BEFORE YOU PISS AROUND ON MY WORK   \n",
      "7   00031b1e95af7921  Your vandalism to the Matt Shirvington article...   \n",
      "8   00037261f536c51d  Sorry if the word 'nonsense' was offensive to ...   \n",
      "9   00040093b2687caa  alignment on this subject and which are contra...   \n",
      "10  0005300084f90edc  \"\\nFair use rationale for Image:Wonju.jpg\\n\\nT...   \n",
      "11  00054a5e18b50dd4  bbq \\n\\nbe a man and lets discuss it-maybe ove...   \n",
      "12  0005c987bdfc9d4b  Hey... what is it..\\n@ | talk .\\nWhat is it......   \n",
      "13  0006f16e4e9f292e  Before you start throwing accusations and warn...   \n",
      "14  00070ef96486d6f9  Oh, and the girl above started her arguments w...   \n",
      "15  00078f8ce7eb276d  \"\\n\\nJuelz Santanas Age\\n\\nIn 2002, Juelz Sant...   \n",
      "16  0007e25b2121310b  Bye! \\n\\nDon't look, come or think of comming ...   \n",
      "17  000897889268bc93   REDIRECT Talk:Voydan Pop Georgiev- Chernodrinski   \n",
      "18  0009801bd85e5806  The Mitsurugi point made no sense - why not ar...   \n",
      "19  0009eaea3325de8c  Don't mean to bother you \\n\\nI see that you're...   \n",
      "\n",
      "    toxic  severe_toxic  obscene  threat  insult  identity_hate  \n",
      "0       0             0        0       0       0              0  \n",
      "1       0             0        0       0       0              0  \n",
      "2       0             0        0       0       0              0  \n",
      "3       0             0        0       0       0              0  \n",
      "4       0             0        0       0       0              0  \n",
      "5       0             0        0       0       0              0  \n",
      "6       1             1        1       0       1              0  \n",
      "7       0             0        0       0       0              0  \n",
      "8       0             0        0       0       0              0  \n",
      "9       0             0        0       0       0              0  \n",
      "10      0             0        0       0       0              0  \n",
      "11      0             0        0       0       0              0  \n",
      "12      1             0        0       0       0              0  \n",
      "13      0             0        0       0       0              0  \n",
      "14      0             0        0       0       0              0  \n",
      "15      0             0        0       0       0              0  \n",
      "16      1             0        0       0       0              0  \n",
      "17      0             0        0       0       0              0  \n",
      "18      0             0        0       0       0              0  \n",
      "19      0             0        0       0       0              0  \n",
      "(159571, 8)\n"
     ]
    }
   ],
   "source": [
    "#data sample,head\n",
    "print(training_data.head(20))\n",
    "print(training_data.shape)"
   ]
  },
  {
   "cell_type": "code",
   "execution_count": 4,
   "metadata": {},
   "outputs": [
    {
     "name": "stdout",
     "output_type": "stream",
     "text": [
      "<class 'pandas.core.frame.DataFrame'>\n",
      "RangeIndex: 159571 entries, 0 to 159570\n",
      "Data columns (total 8 columns):\n",
      "id               159571 non-null object\n",
      "comment_text     159571 non-null object\n",
      "toxic            159571 non-null int64\n",
      "severe_toxic     159571 non-null int64\n",
      "obscene          159571 non-null int64\n",
      "threat           159571 non-null int64\n",
      "insult           159571 non-null int64\n",
      "identity_hate    159571 non-null int64\n",
      "dtypes: int64(6), object(2)\n",
      "memory usage: 9.7+ MB\n"
     ]
    }
   ],
   "source": [
    "training_data.info()"
   ]
  },
  {
   "cell_type": "code",
   "execution_count": 5,
   "metadata": {},
   "outputs": [],
   "source": [
    "#this is multilevel multiclass problem, i can see some of the data is clean data.\n",
    "#creating a new output class named clean_data\n",
    "\n",
    "total_class_in_a_row = training_data.iloc[:,2:].sum(axis = 1)\n",
    "#total_class_in_a_row is a Series that contains total number of class in a particular observation.\n",
    "\n",
    "training_data['clean_data'] = (total_class_in_a_row == 0)\n",
    "\n",
    "#clean_data contains True and False value as per previous class is present or not"
   ]
  },
  {
   "cell_type": "code",
   "execution_count": 6,
   "metadata": {},
   "outputs": [
    {
     "data": {
      "text/plain": [
       "0         0\n",
       "1         0\n",
       "2         0\n",
       "3         0\n",
       "4         0\n",
       "5         0\n",
       "6         4\n",
       "7         0\n",
       "8         0\n",
       "9         0\n",
       "10        0\n",
       "11        0\n",
       "12        1\n",
       "13        0\n",
       "14        0\n",
       "15        0\n",
       "16        1\n",
       "17        0\n",
       "18        0\n",
       "19        0\n",
       "20        0\n",
       "21        0\n",
       "22        0\n",
       "23        0\n",
       "24        0\n",
       "25        0\n",
       "26        0\n",
       "27        0\n",
       "28        0\n",
       "29        0\n",
       "         ..\n",
       "159541    3\n",
       "159542    0\n",
       "159543    0\n",
       "159544    0\n",
       "159545    0\n",
       "159546    2\n",
       "159547    0\n",
       "159548    0\n",
       "159549    0\n",
       "159550    0\n",
       "159551    0\n",
       "159552    0\n",
       "159553    0\n",
       "159554    3\n",
       "159555    0\n",
       "159556    0\n",
       "159557    0\n",
       "159558    0\n",
       "159559    0\n",
       "159560    0\n",
       "159561    0\n",
       "159562    0\n",
       "159563    0\n",
       "159564    0\n",
       "159565    0\n",
       "159566    0\n",
       "159567    0\n",
       "159568    0\n",
       "159569    0\n",
       "159570    0\n",
       "Length: 159571, dtype: int64"
      ]
     },
     "execution_count": 6,
     "metadata": {},
     "output_type": "execute_result"
    }
   ],
   "source": [
    "total_class_in_a_row"
   ]
  },
  {
   "cell_type": "code",
   "execution_count": 7,
   "metadata": {},
   "outputs": [
    {
     "name": "stdout",
     "output_type": "stream",
     "text": [
      "total number of clean data is :143346\n",
      "total number of not clean data is :16225\n"
     ]
    }
   ],
   "source": [
    "print(\"total number of clean data is :{}\".format(training_data['clean_data'].sum()))\n",
    "print(\"total number of not clean data is :{}\".format((training_data.iloc[:,2:8].sum(axis = 1) >=1).sum()))\n",
    "      \n",
    "clean_data_total = training_data['clean_data'].sum()\n",
    "not_clean_data_total = (training_data.iloc[:,2:8].sum(axis = 1) >=1).sum()"
   ]
  },
  {
   "cell_type": "code",
   "execution_count": 8,
   "metadata": {},
   "outputs": [
    {
     "data": {
      "image/png": "[encoded data removed]",
      "text/plain": [
       "<Figure size 432x288 with 1 Axes>"
      ]
     },
     "metadata": {},
     "output_type": "display_data"
    },
    {
     "data": {
      "text/plain": [
       "<matplotlib.axes._subplots.AxesSubplot at 0x2917f5b9b0>"
      ]
     },
     "execution_count": 8,
     "metadata": {},
     "output_type": "execute_result"
    },
    {
     "data": {
      "image/png": "[encoded data removed]",
      "text/plain": [
       "<Figure size 432x288 with 1 Axes>"
      ]
     },
     "metadata": {},
     "output_type": "display_data"
    }
   ],
   "source": [
    "#from above result e can see that data is highly imbalanced. We have 1433346 clean data, means it did not have any type of toxic \n",
    "#class and only 16225 observation has toxic comments\n",
    "x = ['clean_data_total','not_clean_total']\n",
    "y = [clean_data_total,not_clean_data_total]\n",
    "plt.bar(x,y)\n",
    "plt.show()\n",
    "#plot for different class count\n",
    "count = training_data.iloc[:,2:].sum()\n",
    "count.plot(kind = 'bar')"
   ]
  },
  {
   "cell_type": "code",
   "execution_count": 9,
   "metadata": {},
   "outputs": [
    {
     "data": {
      "text/plain": [
       "toxic             15294.0\n",
       "severe_toxic       1595.0\n",
       "obscene            8449.0\n",
       "threat              478.0\n",
       "insult             7877.0\n",
       "identity_hate      1405.0\n",
       "clean_data       143346.0\n",
       "dtype: float64"
      ]
     },
     "execution_count": 9,
     "metadata": {},
     "output_type": "execute_result"
    }
   ],
   "source": [
    "#numerical presentation of differnt class count\n",
    "#we can see data is imbalance\n",
    "count"
   ]
  },
  {
   "cell_type": "code",
   "execution_count": 10,
   "metadata": {},
   "outputs": [
    {
     "name": "stdout",
     "output_type": "stream",
     "text": [
      "id               0\n",
      "comment_text     0\n",
      "toxic            0\n",
      "severe_toxic     0\n",
      "obscene          0\n",
      "threat           0\n",
      "insult           0\n",
      "identity_hate    0\n",
      "clean_data       0\n",
      "dtype: int64\n"
     ]
    }
   ],
   "source": [
    "#working on null values\n",
    "print(training_data.isnull().sum())"
   ]
  },
  {
   "cell_type": "code",
   "execution_count": 11,
   "metadata": {},
   "outputs": [
    {
     "data": {
      "text/html": [
       "<div>\n",
       "<style scoped>\n",
       "    .dataframe tbody tr th:only-of-type {\n",
       "        vertical-align: middle;\n",
       "    }\n",
       "\n",
       "    .dataframe tbody tr th {\n",
       "        vertical-align: top;\n",
       "    }\n",
       "\n",
       "    .dataframe thead th {\n",
       "        text-align: right;\n",
       "    }\n",
       "</style>\n",
       "<table border=\"1\" class=\"dataframe\">\n",
       "  <thead>\n",
       "    <tr style=\"text-align: right;\">\n",
       "      <th></th>\n",
       "      <th>id</th>\n",
       "      <th>comment_text</th>\n",
       "      <th>toxic</th>\n",
       "      <th>severe_toxic</th>\n",
       "      <th>obscene</th>\n",
       "      <th>threat</th>\n",
       "      <th>insult</th>\n",
       "      <th>identity_hate</th>\n",
       "      <th>clean_data</th>\n",
       "    </tr>\n",
       "  </thead>\n",
       "  <tbody>\n",
       "    <tr>\n",
       "      <th>0</th>\n",
       "      <td>0000997932d777bf</td>\n",
       "      <td>Explanation\\nWhy the edits made under my usern...</td>\n",
       "      <td>0</td>\n",
       "      <td>0</td>\n",
       "      <td>0</td>\n",
       "      <td>0</td>\n",
       "      <td>0</td>\n",
       "      <td>0</td>\n",
       "      <td>True</td>\n",
       "    </tr>\n",
       "    <tr>\n",
       "      <th>1</th>\n",
       "      <td>000103f0d9cfb60f</td>\n",
       "      <td>D'aww! He matches this background colour I'm s...</td>\n",
       "      <td>0</td>\n",
       "      <td>0</td>\n",
       "      <td>0</td>\n",
       "      <td>0</td>\n",
       "      <td>0</td>\n",
       "      <td>0</td>\n",
       "      <td>True</td>\n",
       "    </tr>\n",
       "    <tr>\n",
       "      <th>2</th>\n",
       "      <td>000113f07ec002fd</td>\n",
       "      <td>Hey man, I'm really not trying to edit war. It...</td>\n",
       "      <td>0</td>\n",
       "      <td>0</td>\n",
       "      <td>0</td>\n",
       "      <td>0</td>\n",
       "      <td>0</td>\n",
       "      <td>0</td>\n",
       "      <td>True</td>\n",
       "    </tr>\n",
       "    <tr>\n",
       "      <th>3</th>\n",
       "      <td>0001b41b1c6bb37e</td>\n",
       "      <td>\"\\nMore\\nI can't make any real suggestions on ...</td>\n",
       "      <td>0</td>\n",
       "      <td>0</td>\n",
       "      <td>0</td>\n",
       "      <td>0</td>\n",
       "      <td>0</td>\n",
       "      <td>0</td>\n",
       "      <td>True</td>\n",
       "    </tr>\n",
       "    <tr>\n",
       "      <th>4</th>\n",
       "      <td>0001d958c54c6e35</td>\n",
       "      <td>You, sir, are my hero. Any chance you remember...</td>\n",
       "      <td>0</td>\n",
       "      <td>0</td>\n",
       "      <td>0</td>\n",
       "      <td>0</td>\n",
       "      <td>0</td>\n",
       "      <td>0</td>\n",
       "      <td>True</td>\n",
       "    </tr>\n",
       "  </tbody>\n",
       "</table>\n",
       "</div>"
      ],
      "text/plain": [
       "                 id                                       comment_text  toxic  \\\n",
       "0  0000997932d777bf  Explanation\\nWhy the edits made under my usern...      0   \n",
       "1  000103f0d9cfb60f  D'aww! He matches this background colour I'm s...      0   \n",
       "2  000113f07ec002fd  Hey man, I'm really not trying to edit war. It...      0   \n",
       "3  0001b41b1c6bb37e  \"\\nMore\\nI can't make any real suggestions on ...      0   \n",
       "4  0001d958c54c6e35  You, sir, are my hero. Any chance you remember...      0   \n",
       "\n",
       "   severe_toxic  obscene  threat  insult  identity_hate  clean_data  \n",
       "0             0        0       0       0              0        True  \n",
       "1             0        0       0       0              0        True  \n",
       "2             0        0       0       0              0        True  \n",
       "3             0        0       0       0              0        True  \n",
       "4             0        0       0       0              0        True  "
      ]
     },
     "execution_count": 11,
     "metadata": {},
     "output_type": "execute_result"
    }
   ],
   "source": [
    "#again i am seeing the head of my data\n",
    "training_data.head()"
   ]
  },
  {
   "cell_type": "code",
   "execution_count": 12,
   "metadata": {},
   "outputs": [],
   "source": [
    "#finding correlation between toxic and serve_toxic,  i went through  below  corrlation technique\n",
    "b = []\n",
    "def confusion_metrix(df,column1,column2):\n",
    "    confusion_matrix = pd.crosstab(df[column1], df[column2])\n",
    "    b.append(confusion_matrix)\n",
    "    return confusion_metrix"
   ]
  },
  {
   "cell_type": "code",
   "execution_count": 13,
   "metadata": {},
   "outputs": [],
   "source": [
    "#crosstab between different categorical class\n",
    "\n",
    "column = training_data.columns[3:]\n",
    "for col in column:\n",
    "    conf_met = confusion_metrix(training_data,'toxic',col)\n",
    "    "
   ]
  },
  {
   "cell_type": "code",
   "execution_count": 14,
   "metadata": {},
   "outputs": [
    {
     "name": "stdout",
     "output_type": "stream",
     "text": [
      "severe_toxic       0     1\n",
      "toxic                     \n",
      "0             144277     0\n",
      "1              13699  1595\n",
      "obscene       0     1\n",
      "toxic                \n",
      "0        143754   523\n",
      "1          7368  7926\n",
      "threat       0    1\n",
      "toxic              \n",
      "0       144248   29\n",
      "1        14845  449\n",
      "insult       0     1\n",
      "toxic               \n",
      "0       143744   533\n",
      "1         7950  7344\n",
      "identity_hate       0     1\n",
      "toxic                      \n",
      "0              144174   103\n",
      "1               13992  1302\n",
      "clean_data  False   True \n",
      "toxic                    \n",
      "0             931  143346\n",
      "1           15294       0\n"
     ]
    }
   ],
   "source": [
    "for data in b:\n",
    "    print(data)"
   ]
  },
  {
   "cell_type": "code",
   "execution_count": null,
   "metadata": {},
   "outputs": [],
   "source": [
    "#by looking above data we can say all observation related to severe_toxic are toxic also\n",
    "#below i tried to find the correlation between the different classes.\n"
   ]
  },
  {
   "cell_type": "code",
   "execution_count": 176,
   "metadata": {},
   "outputs": [
    {
     "name": "stdout",
     "output_type": "stream",
     "text": [
      "pearson correlation between toxic and toxic class: 1.0\n",
      "kendall correlation between toxic and toxic class: 0.9999999999999999\n",
      "spearman correlation between toxic and toxic class: 1.0\n",
      "\n",
      "\n",
      "pearson correlation between toxic and severe_toxic class: 0.30861909674070076\n",
      "kendall correlation between toxic and severe_toxic class: 0.3086190967406997\n",
      "spearman correlation between toxic and severe_toxic class: 0.3086190967406997\n",
      "\n",
      "\n",
      "pearson correlation between toxic and obscene class: 0.6765145229708253\n",
      "kendall correlation between toxic and obscene class: 0.6765145229708273\n",
      "spearman correlation between toxic and obscene class: 0.6765145229708273\n",
      "\n",
      "\n",
      "pearson correlation between toxic and threat class: 0.15705840936596807\n",
      "kendall correlation between toxic and threat class: 0.15705840936596863\n",
      "spearman correlation between toxic and threat class: 0.15705840936596863\n",
      "\n",
      "\n",
      "pearson correlation between toxic and insult class: 0.6475181270016772\n",
      "kendall correlation between toxic and insult class: 0.6475181270016792\n",
      "spearman correlation between toxic and insult class: 0.6475181270016793\n",
      "\n",
      "\n",
      "pearson correlation between toxic and identity_hate class: 0.2660093818440714\n",
      "kendall correlation between toxic and identity_hate class: 0.2660093818440715\n",
      "spearman correlation between toxic and identity_hate class: 0.2660093818440715\n",
      "\n",
      "\n"
     ]
    }
   ],
   "source": [
    "#training_data['toxic']\n",
    "class_names = ['toxic', 'severe_toxic', 'obscene', 'threat', 'insult', 'identity_hate']\n",
    "for i in class_names:\n",
    "    print('pearson correlation between toxic and {} class:'.format(i),training_data['toxic'].corr(training_data[i],method = 'pearson'))\n",
    "    print('kendall correlation between toxic and {} class:'.format(i),training_data['toxic'].corr(training_data[i],method = 'kendall'))\n",
    "    print('spearman correlation between toxic and {} class:'.format(i),training_data['toxic'].corr(training_data[i],method = 'spearman'))\n",
    "    print('\\n')\n",
    "    \n",
    "    \n",
    "    "
   ]
  },
  {
   "cell_type": "code",
   "execution_count": 179,
   "metadata": {},
   "outputs": [
    {
     "name": "stdout",
     "output_type": "stream",
     "text": [
      " Kolmogorov-Smirnov test:    KS-stat = 0.000000    p-value = 1.000e+00\n",
      "\n",
      " Kolmogorov-Smirnov test:    KS-stat = 0.085849    p-value = 0.000e+00\n",
      "\n",
      " Kolmogorov-Smirnov test:    KS-stat = 0.042896    p-value = 4.706e-128\n",
      "\n",
      " Kolmogorov-Smirnov test:    KS-stat = 0.092849    p-value = 0.000e+00\n",
      "\n",
      " Kolmogorov-Smirnov test:    KS-stat = 0.046481    p-value = 2.824e-150\n",
      "\n",
      " Kolmogorov-Smirnov test:    KS-stat = 0.087040    p-value = 0.000e+00\n",
      "\n"
     ]
    }
   ],
   "source": [
    "class_names = ['toxic', 'severe_toxic', 'obscene', 'threat', 'insult', 'identity_hate']\n",
    "for i in class_names:\n",
    "    ks_stat, p_value = ks_2samp(training_data['toxic'].values,training_data[i].values)\n",
    "    print(' Kolmogorov-Smirnov test:    KS-stat = %.6f    p-value = %.3e\\n' % (ks_stat, p_value))"
   ]
  },
  {
   "cell_type": "code",
   "execution_count": 186,
   "metadata": {},
   "outputs": [],
   "source": [
    "#till above i have worked on data analysis part\n",
    "#Conclusion: its a multiclass classification problem, having unbalance dataset, there is some correlation between the classes.\n",
    "#i have added one column named clean_data to training_data"
   ]
  },
  {
   "cell_type": "code",
   "execution_count": 187,
   "metadata": {},
   "outputs": [
    {
     "data": {
      "text/html": [
       "<div>\n",
       "<style scoped>\n",
       "    .dataframe tbody tr th:only-of-type {\n",
       "        vertical-align: middle;\n",
       "    }\n",
       "\n",
       "    .dataframe tbody tr th {\n",
       "        vertical-align: top;\n",
       "    }\n",
       "\n",
       "    .dataframe thead th {\n",
       "        text-align: right;\n",
       "    }\n",
       "</style>\n",
       "<table border=\"1\" class=\"dataframe\">\n",
       "  <thead>\n",
       "    <tr style=\"text-align: right;\">\n",
       "      <th></th>\n",
       "      <th>id</th>\n",
       "      <th>comment_text</th>\n",
       "      <th>toxic</th>\n",
       "      <th>severe_toxic</th>\n",
       "      <th>obscene</th>\n",
       "      <th>threat</th>\n",
       "      <th>insult</th>\n",
       "      <th>identity_hate</th>\n",
       "      <th>clean_data</th>\n",
       "    </tr>\n",
       "  </thead>\n",
       "  <tbody>\n",
       "    <tr>\n",
       "      <th>0</th>\n",
       "      <td>0000997932d777bf</td>\n",
       "      <td>Explanation\\nWhy the edits made under my usern...</td>\n",
       "      <td>0</td>\n",
       "      <td>0</td>\n",
       "      <td>0</td>\n",
       "      <td>0</td>\n",
       "      <td>0</td>\n",
       "      <td>0</td>\n",
       "      <td>True</td>\n",
       "    </tr>\n",
       "    <tr>\n",
       "      <th>1</th>\n",
       "      <td>000103f0d9cfb60f</td>\n",
       "      <td>D'aww! He matches this background colour I'm s...</td>\n",
       "      <td>0</td>\n",
       "      <td>0</td>\n",
       "      <td>0</td>\n",
       "      <td>0</td>\n",
       "      <td>0</td>\n",
       "      <td>0</td>\n",
       "      <td>True</td>\n",
       "    </tr>\n",
       "    <tr>\n",
       "      <th>2</th>\n",
       "      <td>000113f07ec002fd</td>\n",
       "      <td>Hey man, I'm really not trying to edit war. It...</td>\n",
       "      <td>0</td>\n",
       "      <td>0</td>\n",
       "      <td>0</td>\n",
       "      <td>0</td>\n",
       "      <td>0</td>\n",
       "      <td>0</td>\n",
       "      <td>True</td>\n",
       "    </tr>\n",
       "    <tr>\n",
       "      <th>3</th>\n",
       "      <td>0001b41b1c6bb37e</td>\n",
       "      <td>\"\\nMore\\nI can't make any real suggestions on ...</td>\n",
       "      <td>0</td>\n",
       "      <td>0</td>\n",
       "      <td>0</td>\n",
       "      <td>0</td>\n",
       "      <td>0</td>\n",
       "      <td>0</td>\n",
       "      <td>True</td>\n",
       "    </tr>\n",
       "    <tr>\n",
       "      <th>4</th>\n",
       "      <td>0001d958c54c6e35</td>\n",
       "      <td>You, sir, are my hero. Any chance you remember...</td>\n",
       "      <td>0</td>\n",
       "      <td>0</td>\n",
       "      <td>0</td>\n",
       "      <td>0</td>\n",
       "      <td>0</td>\n",
       "      <td>0</td>\n",
       "      <td>True</td>\n",
       "    </tr>\n",
       "  </tbody>\n",
       "</table>\n",
       "</div>"
      ],
      "text/plain": [
       "                 id                                       comment_text  toxic  \\\n",
       "0  0000997932d777bf  Explanation\\nWhy the edits made under my usern...      0   \n",
       "1  000103f0d9cfb60f  D'aww! He matches this background colour I'm s...      0   \n",
       "2  000113f07ec002fd  Hey man, I'm really not trying to edit war. It...      0   \n",
       "3  0001b41b1c6bb37e  \"\\nMore\\nI can't make any real suggestions on ...      0   \n",
       "4  0001d958c54c6e35  You, sir, are my hero. Any chance you remember...      0   \n",
       "\n",
       "   severe_toxic  obscene  threat  insult  identity_hate  clean_data  \n",
       "0             0        0       0       0              0        True  \n",
       "1             0        0       0       0              0        True  \n",
       "2             0        0       0       0              0        True  \n",
       "3             0        0       0       0              0        True  \n",
       "4             0        0       0       0              0        True  "
      ]
     },
     "execution_count": 187,
     "metadata": {},
     "output_type": "execute_result"
    }
   ],
   "source": [
    "training_data.head()"
   ]
  },
  {
   "cell_type": "code",
   "execution_count": 188,
   "metadata": {},
   "outputs": [
    {
     "name": "stdout",
     "output_type": "stream",
     "text": [
      "<class 'pandas.core.frame.DataFrame'>\n",
      "RangeIndex: 159571 entries, 0 to 159570\n",
      "Data columns (total 9 columns):\n",
      "id               159571 non-null object\n",
      "comment_text     159571 non-null object\n",
      "toxic            159571 non-null int64\n",
      "severe_toxic     159571 non-null int64\n",
      "obscene          159571 non-null int64\n",
      "threat           159571 non-null int64\n",
      "insult           159571 non-null int64\n",
      "identity_hate    159571 non-null int64\n",
      "clean_data       159571 non-null bool\n",
      "dtypes: bool(1), int64(6), object(2)\n",
      "memory usage: 9.9+ MB\n"
     ]
    }
   ],
   "source": [
    "training_data.info()"
   ]
  },
  {
   "cell_type": "code",
   "execution_count": 189,
   "metadata": {},
   "outputs": [],
   "source": [
    "#we have already checked that dataset do not have missing values"
   ]
  },
  {
   "cell_type": "markdown",
   "metadata": {},
   "source": [
    "# Cheking the 1st 3 comments"
   ]
  },
  {
   "cell_type": "code",
   "execution_count": 15,
   "metadata": {},
   "outputs": [
    {
     "data": {
      "text/plain": [
       "\"Explanation\\nWhy the edits made under my username Hardcore Metallica Fan were reverted? They weren't vandalisms, just closure on some GAs after I voted at New York Dolls FAC. And please don't remove the template from the talk page since I'm retired now.89.205.38.27\""
      ]
     },
     "execution_count": 15,
     "metadata": {},
     "output_type": "execute_result"
    }
   ],
   "source": [
    "training_data['comment_text'][0]"
   ]
  },
  {
   "cell_type": "code",
   "execution_count": 16,
   "metadata": {},
   "outputs": [
    {
     "data": {
      "text/plain": [
       "\"D'aww! He matches this background colour I'm seemingly stuck with. Thanks.  (talk) 21:51, January 11, 2016 (UTC)\""
      ]
     },
     "execution_count": 16,
     "metadata": {},
     "output_type": "execute_result"
    }
   ],
   "source": [
    "training_data['comment_text'][1]"
   ]
  },
  {
   "cell_type": "code",
   "execution_count": 17,
   "metadata": {},
   "outputs": [
    {
     "name": "stdout",
     "output_type": "stream",
     "text": [
      "toxic             15294.0\n",
      "severe_toxic       1595.0\n",
      "obscene            8449.0\n",
      "threat              478.0\n",
      "insult             7877.0\n",
      "identity_hate      1405.0\n",
      "clean_data       143346.0\n",
      "dtype: float64\n"
     ]
    }
   ],
   "source": [
    "#Count for each class\n",
    "training_data_count=training_data.iloc[:,2:].sum()\n",
    "print(training_data_count)"
   ]
  },
  {
   "cell_type": "markdown",
   "metadata": {},
   "source": [
    "# text preprocessing"
   ]
  },
  {
   "cell_type": "code",
   "execution_count": 3,
   "metadata": {},
   "outputs": [],
   "source": [
    "# Text preprocessing steps - remove numbers, capital letters, punctuation, '\\n'\n",
    "import re\n",
    "import string\n",
    "\n",
    "# remove all numbers with letters attached to them\n",
    "alphanumeric = lambda x: re.sub('\\w*\\d\\w*', ' ', x)\n",
    "\n",
    "# '[%s]' % re.escape(string.punctuation),' ' - replace punctuation with white space\n",
    "# .lower() - convert all strings to lowercase \n",
    "punc_lower = lambda x: re.sub('[%s]' % re.escape(string.punctuation), ' ', x.lower())\n",
    "\n",
    "# Remove all '\\n' in the string and replace it with a space\n",
    "remove_n = lambda x: re.sub(\"\\n\", \" \", x)\n",
    "\n",
    "# Remove all non-ascii characters \n",
    "remove_non_ascii = lambda x: re.sub(r'[^\\x00-\\x7f]',r' ', x)\n",
    "\n",
    "# Apply all the lambda functions wrote previously through .map on the comments column\n",
    "training_data['comment_text'] = training_data['comment_text'].map(alphanumeric).map(punc_lower).map(remove_n).map(remove_non_ascii)\n",
    "\n"
   ]
  },
  {
   "cell_type": "code",
   "execution_count": 19,
   "metadata": {},
   "outputs": [
    {
     "data": {
      "text/plain": [
       "'explanation why the edits made under my username hardcore metallica fan were reverted  they weren t vandalisms  just closure on some gas after i voted at new york dolls fac  and please don t remove the template from the talk page since i m retired now        '"
      ]
     },
     "execution_count": 19,
     "metadata": {},
     "output_type": "execute_result"
    }
   ],
   "source": [
    "training_data['comment_text'][0]"
   ]
  },
  {
   "cell_type": "code",
   "execution_count": 4,
   "metadata": {},
   "outputs": [
    {
     "data": {
      "text/plain": [
       "0    144277\n",
       "1     15294\n",
       "Name: toxic, dtype: int64"
      ]
     },
     "execution_count": 4,
     "metadata": {},
     "output_type": "execute_result"
    }
   ],
   "source": [
    "# Check percentage of comments that are toxic compared to normal comments\n",
    "training_data.toxic.value_counts()"
   ]
  },
  {
   "cell_type": "code",
   "execution_count": 5,
   "metadata": {},
   "outputs": [
    {
     "data": {
      "text/html": [
       "<div>\n",
       "<style scoped>\n",
       "    .dataframe tbody tr th:only-of-type {\n",
       "        vertical-align: middle;\n",
       "    }\n",
       "\n",
       "    .dataframe tbody tr th {\n",
       "        vertical-align: top;\n",
       "    }\n",
       "\n",
       "    .dataframe thead th {\n",
       "        text-align: right;\n",
       "    }\n",
       "</style>\n",
       "<table border=\"1\" class=\"dataframe\">\n",
       "  <thead>\n",
       "    <tr style=\"text-align: right;\">\n",
       "      <th></th>\n",
       "      <th>id</th>\n",
       "      <th>comment_text</th>\n",
       "      <th>toxic</th>\n",
       "      <th>severe_toxic</th>\n",
       "      <th>obscene</th>\n",
       "      <th>threat</th>\n",
       "      <th>insult</th>\n",
       "      <th>identity_hate</th>\n",
       "    </tr>\n",
       "  </thead>\n",
       "  <tbody>\n",
       "    <tr>\n",
       "      <th>0</th>\n",
       "      <td>0000997932d777bf</td>\n",
       "      <td>explanation why the edits made under my userna...</td>\n",
       "      <td>0</td>\n",
       "      <td>0</td>\n",
       "      <td>0</td>\n",
       "      <td>0</td>\n",
       "      <td>0</td>\n",
       "      <td>0</td>\n",
       "    </tr>\n",
       "    <tr>\n",
       "      <th>1</th>\n",
       "      <td>000103f0d9cfb60f</td>\n",
       "      <td>d aww  he matches this background colour i m s...</td>\n",
       "      <td>0</td>\n",
       "      <td>0</td>\n",
       "      <td>0</td>\n",
       "      <td>0</td>\n",
       "      <td>0</td>\n",
       "      <td>0</td>\n",
       "    </tr>\n",
       "    <tr>\n",
       "      <th>2</th>\n",
       "      <td>000113f07ec002fd</td>\n",
       "      <td>hey man  i m really not trying to edit war  it...</td>\n",
       "      <td>0</td>\n",
       "      <td>0</td>\n",
       "      <td>0</td>\n",
       "      <td>0</td>\n",
       "      <td>0</td>\n",
       "      <td>0</td>\n",
       "    </tr>\n",
       "    <tr>\n",
       "      <th>3</th>\n",
       "      <td>0001b41b1c6bb37e</td>\n",
       "      <td>more i can t make any real suggestions on im...</td>\n",
       "      <td>0</td>\n",
       "      <td>0</td>\n",
       "      <td>0</td>\n",
       "      <td>0</td>\n",
       "      <td>0</td>\n",
       "      <td>0</td>\n",
       "    </tr>\n",
       "    <tr>\n",
       "      <th>4</th>\n",
       "      <td>0001d958c54c6e35</td>\n",
       "      <td>you  sir  are my hero  any chance you remember...</td>\n",
       "      <td>0</td>\n",
       "      <td>0</td>\n",
       "      <td>0</td>\n",
       "      <td>0</td>\n",
       "      <td>0</td>\n",
       "      <td>0</td>\n",
       "    </tr>\n",
       "  </tbody>\n",
       "</table>\n",
       "</div>"
      ],
      "text/plain": [
       "                 id                                       comment_text  toxic  \\\n",
       "0  0000997932d777bf  explanation why the edits made under my userna...      0   \n",
       "1  000103f0d9cfb60f  d aww  he matches this background colour i m s...      0   \n",
       "2  000113f07ec002fd  hey man  i m really not trying to edit war  it...      0   \n",
       "3  0001b41b1c6bb37e    more i can t make any real suggestions on im...      0   \n",
       "4  0001d958c54c6e35  you  sir  are my hero  any chance you remember...      0   \n",
       "\n",
       "   severe_toxic  obscene  threat  insult  identity_hate  \n",
       "0             0        0       0       0              0  \n",
       "1             0        0       0       0              0  \n",
       "2             0        0       0       0              0  \n",
       "3             0        0       0       0              0  \n",
       "4             0        0       0       0              0  "
      ]
     },
     "execution_count": 5,
     "metadata": {},
     "output_type": "execute_result"
    }
   ],
   "source": [
    "#now we have much cleaner text\n",
    "training_data.head()"
   ]
  },
  {
   "cell_type": "code",
   "execution_count": 21,
   "metadata": {},
   "outputs": [],
   "source": [
    "stop_words = set(stopwords.words('english'))"
   ]
  },
  {
   "cell_type": "code",
   "execution_count": 208,
   "metadata": {},
   "outputs": [
    {
     "data": {
      "image/png": "[encoded data removed]",
      "text/plain": [
       "<Figure size 720x720 with 1 Axes>"
      ]
     },
     "metadata": {},
     "output_type": "display_data"
    }
   ],
   "source": [
    "#word cloud for clean data, i have taken most frequest 500 words\n",
    "from wordcloud import WordCloud\n",
    "subset_clean_data = training_data[training_data['clean_data'] == True]\n",
    "text_data = subset_clean_data.comment_text.values\n",
    "wc = WordCloud(stopwords = stop_words,max_words = 500)\n",
    "wc.generate(\" \".join(text_data))\n",
    "plt.figure(figsize=(10,10))\n",
    "plt.imshow(wc.recolor(colormap='viridis',random_state = 41),alpha = .80)\n",
    "plt.show()"
   ]
  },
  {
   "cell_type": "code",
   "execution_count": 209,
   "metadata": {},
   "outputs": [
    {
     "data": {
      "image/png": "[encoded data removed]",
      "text/plain": [
       "<Figure size 720x720 with 1 Axes>"
      ]
     },
     "metadata": {},
     "output_type": "display_data"
    }
   ],
   "source": [
    "#for toxic\n",
    "subset_clean_data = training_data[training_data['toxic'] == True]\n",
    "text_data = subset_clean_data.comment_text.values\n",
    "wc = WordCloud(stopwords = stop_words,max_words = 500)\n",
    "wc.generate(\" \".join(text_data))\n",
    "plt.figure(figsize=(10,10))\n",
    "plt.imshow(wc.recolor(colormap='viridis',random_state = 41),alpha = .80)\n",
    "plt.show()"
   ]
  },
  {
   "cell_type": "code",
   "execution_count": 24,
   "metadata": {},
   "outputs": [
    {
     "data": {
      "text/plain": [
       "Index(['id', 'comment_text', 'toxic', 'severe_toxic', 'obscene', 'threat',\n",
       "       'insult', 'identity_hate', 'clean_data'],\n",
       "      dtype='object')"
      ]
     },
     "execution_count": 24,
     "metadata": {},
     "output_type": "execute_result"
    }
   ],
   "source": [
    "training_data.columns"
   ]
  },
  {
   "cell_type": "code",
   "execution_count": 52,
   "metadata": {},
   "outputs": [],
   "source": [
    "training_data_with_class = training_data[training_data['clean_data']==False]"
   ]
  },
  {
   "cell_type": "code",
   "execution_count": 53,
   "metadata": {},
   "outputs": [
    {
     "data": {
      "text/plain": [
       "toxic            15294.0\n",
       "severe_toxic      1595.0\n",
       "obscene           8449.0\n",
       "threat             478.0\n",
       "insult            7877.0\n",
       "identity_hate     1405.0\n",
       "clean_data           0.0\n",
       "dtype: float64"
      ]
     },
     "execution_count": 53,
     "metadata": {},
     "output_type": "execute_result"
    }
   ],
   "source": [
    "training_data_with_class.iloc[:,2:].sum()"
   ]
  },
  {
   "cell_type": "code",
   "execution_count": 6,
   "metadata": {},
   "outputs": [],
   "source": [
    "X = training_data['comment_text'].values\n",
    "y = training_data[['toxic', 'severe_toxic', 'obscene', 'threat','insult', 'identity_hate']].values\n",
    "from sklearn.model_selection import train_test_split\n",
    "X_train, X_test, y_train, y_test = train_test_split( X, y, test_size=0.30, random_state=42)"
   ]
  },
  {
   "cell_type": "code",
   "execution_count": 7,
   "metadata": {},
   "outputs": [
    {
     "data": {
      "text/plain": [
       "numpy.ndarray"
      ]
     },
     "execution_count": 7,
     "metadata": {},
     "output_type": "execute_result"
    }
   ],
   "source": [
    "type(X_train)"
   ]
  },
  {
   "cell_type": "code",
   "execution_count": 8,
   "metadata": {},
   "outputs": [
    {
     "data": {
      "text/plain": [
       "array([0, 0, 0, 0, 0, 0], dtype=int64)"
      ]
     },
     "execution_count": 8,
     "metadata": {},
     "output_type": "execute_result"
    }
   ],
   "source": [
    "y_train[5000]"
   ]
  },
  {
   "cell_type": "code",
   "execution_count": 9,
   "metadata": {},
   "outputs": [
    {
     "name": "stderr",
     "output_type": "stream",
     "text": [
      "C:\\Users\\abhis_000\\Anaconda3\\lib\\site-packages\\h5py\\__init__.py:36: FutureWarning: Conversion of the second argument of issubdtype from `float` to `np.floating` is deprecated. In future, it will be treated as `np.float64 == np.dtype(float).type`.\n",
      "  from ._conv import register_converters as _register_converters\n",
      "Using TensorFlow backend.\n",
      "C:\\Users\\abhis_000\\Anaconda3\\lib\\site-packages\\tensorflow\\python\\framework\\dtypes.py:526: FutureWarning: Passing (type, 1) or '1type' as a synonym of type is deprecated; in a future version of numpy, it will be understood as (type, (1,)) / '(1,)type'.\n",
      "  _np_qint8 = np.dtype([(\"qint8\", np.int8, 1)])\n",
      "C:\\Users\\abhis_000\\Anaconda3\\lib\\site-packages\\tensorflow\\python\\framework\\dtypes.py:527: FutureWarning: Passing (type, 1) or '1type' as a synonym of type is deprecated; in a future version of numpy, it will be understood as (type, (1,)) / '(1,)type'.\n",
      "  _np_quint8 = np.dtype([(\"quint8\", np.uint8, 1)])\n",
      "C:\\Users\\abhis_000\\Anaconda3\\lib\\site-packages\\tensorflow\\python\\framework\\dtypes.py:528: FutureWarning: Passing (type, 1) or '1type' as a synonym of type is deprecated; in a future version of numpy, it will be understood as (type, (1,)) / '(1,)type'.\n",
      "  _np_qint16 = np.dtype([(\"qint16\", np.int16, 1)])\n",
      "C:\\Users\\abhis_000\\Anaconda3\\lib\\site-packages\\tensorflow\\python\\framework\\dtypes.py:529: FutureWarning: Passing (type, 1) or '1type' as a synonym of type is deprecated; in a future version of numpy, it will be understood as (type, (1,)) / '(1,)type'.\n",
      "  _np_quint16 = np.dtype([(\"quint16\", np.uint16, 1)])\n",
      "C:\\Users\\abhis_000\\Anaconda3\\lib\\site-packages\\tensorflow\\python\\framework\\dtypes.py:530: FutureWarning: Passing (type, 1) or '1type' as a synonym of type is deprecated; in a future version of numpy, it will be understood as (type, (1,)) / '(1,)type'.\n",
      "  _np_qint32 = np.dtype([(\"qint32\", np.int32, 1)])\n",
      "C:\\Users\\abhis_000\\Anaconda3\\lib\\site-packages\\tensorflow\\python\\framework\\dtypes.py:535: FutureWarning: Passing (type, 1) or '1type' as a synonym of type is deprecated; in a future version of numpy, it will be understood as (type, (1,)) / '(1,)type'.\n",
      "  np_resource = np.dtype([(\"resource\", np.ubyte, 1)])\n"
     ]
    }
   ],
   "source": [
    "from numpy import array\n",
    "from numpy import asarray\n",
    "from numpy import zeros\n",
    "from keras.preprocessing.text import Tokenizer\n",
    "from keras.preprocessing.sequence import pad_sequences\n",
    "from keras.models import Sequential\n",
    "from keras.layers import Dense,Input\n",
    "from keras.layers import Flatten\n",
    "from keras.layers import Embedding"
   ]
  },
  {
   "cell_type": "code",
   "execution_count": 10,
   "metadata": {},
   "outputs": [],
   "source": [
    "from keras.layers import Bidirectional,GlobalAveragePooling1D,LSTM,Dropout\n",
    "from keras.models import Model\n",
    "from keras.preprocessing import text"
   ]
  },
  {
   "cell_type": "code",
   "execution_count": 11,
   "metadata": {},
   "outputs": [
    {
     "name": "stderr",
     "output_type": "stream",
     "text": [
      "IOPub data rate exceeded.\n",
      "The notebook server will temporarily stop sending output\n",
      "to the client in order to avoid crashing it.\n",
      "To change this limit, set the config variable\n",
      "`--NotebookApp.iopub_data_rate_limit`.\n",
      "\n",
      "Current values:\n",
      "NotebookApp.iopub_data_rate_limit=1000000.0 (bytes/sec)\n",
      "NotebookApp.rate_limit_window=3.0 (secs)\n",
      "\n"
     ]
    },
    {
     "name": "stdout",
     "output_type": "stream",
     "text": [
      "[[ 725    4  486 ...    0    0    0]\n",
      " [1276  219    3 ...    0    0    0]\n",
      " [  25   96   12 ...    0    0    0]\n",
      " ...\n",
      " [   3  449   22 ...    0    0    0]\n",
      " [ 609 1460    3 ...    0    0    0]\n",
      " [   6   20  235 ...    0    0    0]]\n",
      "Loaded 400000 word vectors.\n"
     ]
    }
   ],
   "source": [
    "max_length = 100\n",
    "max_feature = 30000\n",
    "embed_size = 100\n",
    "\n",
    "token = text.Tokenizer(num_words = max_feature)\n",
    "\n",
    "#t = Tokenizer(num_words = max_feature)\n",
    "token.fit_on_texts(X_train)\n",
    "vocab_size = len(token.word_index) + 1\n",
    "# integer encode the documents\n",
    "encoded_docs = token.texts_to_sequences(X_train)\n",
    "print(encoded_docs)\n",
    "print(len(encoded_docs))\n",
    "# pad documents to a max length of  100 words\n",
    "\n",
    "padded_docs = pad_sequences(encoded_docs, maxlen=max_length, padding='post')\n",
    "print(padded_docs)\n",
    "# load the whole embedding into memory\n",
    "embeddings_index = dict()\n",
    "f = open('../glove.6B.100d.txt',encoding=\"utf8\")\n",
    "for line in f:\n",
    "    values = line.split()\n",
    "    word = values[0]\n",
    "    coefs = asarray(values[1:], dtype='float32')\n",
    "    embeddings_index[word] = coefs\n",
    "f.close()\n",
    "print('Loaded %s word vectors.' % len(embeddings_index))"
   ]
  },
  {
   "cell_type": "code",
   "execution_count": 12,
   "metadata": {},
   "outputs": [
    {
     "data": {
      "text/plain": [
       "111699"
      ]
     },
     "execution_count": 12,
     "metadata": {},
     "output_type": "execute_result"
    }
   ],
   "source": [
    "len(X_train)"
   ]
  },
  {
   "cell_type": "code",
   "execution_count": 13,
   "metadata": {},
   "outputs": [
    {
     "data": {
      "text/plain": [
       "135145"
      ]
     },
     "execution_count": 13,
     "metadata": {},
     "output_type": "execute_result"
    }
   ],
   "source": [
    "len(token.word_index)"
   ]
  },
  {
   "cell_type": "code",
   "execution_count": 14,
   "metadata": {},
   "outputs": [
    {
     "data": {
      "text/plain": [
       "135146"
      ]
     },
     "execution_count": 14,
     "metadata": {},
     "output_type": "execute_result"
    }
   ],
   "source": [
    "vocab_size\n",
    "#padded_docs.shape"
   ]
  },
  {
   "cell_type": "code",
   "execution_count": 15,
   "metadata": {},
   "outputs": [
    {
     "data": {
      "text/plain": [
       "(111699, 100)"
      ]
     },
     "execution_count": 15,
     "metadata": {},
     "output_type": "execute_result"
    }
   ],
   "source": [
    "padded_docs.shape"
   ]
  },
  {
   "cell_type": "code",
   "execution_count": 16,
   "metadata": {},
   "outputs": [],
   "source": [
    "# create a weight matrix for words in training docs\n",
    "embedding_matrix = zeros((vocab_size, 100))\n",
    "for word, i in token.word_index.items():\n",
    "    embedding_vector = embeddings_index.get(word)\n",
    "    if embedding_vector is not None:\n",
    "        embedding_matrix[i] = embedding_vector"
   ]
  },
  {
   "cell_type": "code",
   "execution_count": 17,
   "metadata": {},
   "outputs": [
    {
     "data": {
      "text/plain": [
       "135145"
      ]
     },
     "execution_count": 17,
     "metadata": {},
     "output_type": "execute_result"
    }
   ],
   "source": [
    "len(token.word_index.items())"
   ]
  },
  {
   "cell_type": "code",
   "execution_count": 18,
   "metadata": {},
   "outputs": [
    {
     "data": {
      "text/plain": [
       "100"
      ]
     },
     "execution_count": 18,
     "metadata": {},
     "output_type": "execute_result"
    }
   ],
   "source": [
    "len(embedding_matrix[3])"
   ]
  },
  {
   "cell_type": "code",
   "execution_count": 19,
   "metadata": {},
   "outputs": [
    {
     "name": "stdout",
     "output_type": "stream",
     "text": [
      "WARNING:tensorflow:From C:\\Users\\abhis_000\\Anaconda3\\lib\\site-packages\\tensorflow\\python\\ops\\resource_variable_ops.py:435: colocate_with (from tensorflow.python.framework.ops) is deprecated and will be removed in a future version.\n",
      "Instructions for updating:\n",
      "Colocations handled automatically by placer.\n"
     ]
    },
    {
     "name": "stderr",
     "output_type": "stream",
     "text": [
      "C:\\Users\\abhis_000\\Anaconda3\\lib\\site-packages\\ipykernel_launcher.py:9: UserWarning: Update your `Model` call to the Keras 2 API: `Model(inputs=Tensor(\"in..., outputs=Tensor(\"de...)`\n",
      "  if __name__ == '__main__':\n"
     ]
    }
   ],
   "source": [
    "# define model\n",
    "inp = Input(shape = (max_length,))\n",
    "x = Embedding(vocab_size,embed_size,weights=[embedding_matrix])(inp)\n",
    "x = Bidirectional(LSTM(50,return_sequences = True,dropout = .2,recurrent_dropout = .1))(x)\n",
    "x = GlobalAveragePooling1D()(x)\n",
    "x = Dense(50,activation='relu')(x)\n",
    "x = Dropout(.1)(x)\n",
    "x = Dense(6,activation='softmax')(x)\n",
    "model = Model(input = inp,output = x)\n",
    "model.compile(loss = 'categorical_crossentropy',optimizer = 'adam',metrics = ['accuracy'])\n",
    "                  \n",
    "                  "
   ]
  },
  {
   "cell_type": "code",
   "execution_count": 20,
   "metadata": {},
   "outputs": [
    {
     "data": {
      "text/plain": [
       "(111699, 100)"
      ]
     },
     "execution_count": 20,
     "metadata": {},
     "output_type": "execute_result"
    }
   ],
   "source": [
    "padded_docs.shape"
   ]
  },
  {
   "cell_type": "code",
   "execution_count": 21,
   "metadata": {},
   "outputs": [
    {
     "data": {
      "text/plain": [
       "(111699, 6)"
      ]
     },
     "execution_count": 21,
     "metadata": {},
     "output_type": "execute_result"
    }
   ],
   "source": [
    "y_train.shape"
   ]
  },
  {
   "cell_type": "code",
   "execution_count": 22,
   "metadata": {},
   "outputs": [
    {
     "data": {
      "text/plain": [
       "(159571, 6)"
      ]
     },
     "execution_count": 22,
     "metadata": {},
     "output_type": "execute_result"
    }
   ],
   "source": [
    "y.shape"
   ]
  },
  {
   "cell_type": "code",
   "execution_count": 23,
   "metadata": {},
   "outputs": [
    {
     "name": "stdout",
     "output_type": "stream",
     "text": [
      "WARNING:tensorflow:From C:\\Users\\abhis_000\\Anaconda3\\lib\\site-packages\\tensorflow\\python\\ops\\math_ops.py:3066: to_int32 (from tensorflow.python.ops.math_ops) is deprecated and will be removed in a future version.\n",
      "Instructions for updating:\n",
      "Use tf.cast instead.\n",
      "Train on 89359 samples, validate on 22340 samples\n",
      "Epoch 1/2\n",
      "89359/89359 [==============================] - 1577s 18ms/step - loss: 0.2927 - accuracy: 0.9851 - val_loss: 0.2923 - val_accuracy: 0.9923\n",
      "Epoch 2/2\n",
      "89359/89359 [==============================] - 1523s 17ms/step - loss: 0.2782 - accuracy: 0.9828 - val_loss: 0.2847 - val_accuracy: 0.9903\n"
     ]
    },
    {
     "data": {
      "text/plain": [
       "<keras.callbacks.callbacks.History at 0xcb028b5668>"
      ]
     },
     "execution_count": 23,
     "metadata": {},
     "output_type": "execute_result"
    }
   ],
   "source": [
    "#i am selecting 20% randomly to validate my model\n",
    "model.fit(padded_docs,y_train,batch_size = 32,epochs = 2,validation_split=.2)"
   ]
  },
  {
   "cell_type": "code",
   "execution_count": null,
   "metadata": {},
   "outputs": [],
   "source": [
    "#we have training score 98% and validation is 97%"
   ]
  },
  {
   "cell_type": "code",
   "execution_count": 24,
   "metadata": {},
   "outputs": [
    {
     "name": "stdout",
     "output_type": "stream",
     "text": [
      "Saved model to disk\n"
     ]
    }
   ],
   "source": [
    "#saving the trained model\n",
    "model.save(\"../trained_model/model_new.h5\")\n",
    "print(\"Saved model to disk\")"
   ]
  },
  {
   "cell_type": "code",
   "execution_count": 26,
   "metadata": {},
   "outputs": [],
   "source": [
    "import pickle\n",
    "with open('../trained_model/token.pickle', 'wb') as f:\n",
    "    pickle.dump(token, f)"
   ]
  },
  {
   "cell_type": "code",
   "execution_count": 27,
   "metadata": {},
   "outputs": [
    {
     "name": "stdout",
     "output_type": "stream",
     "text": [
      "Model: \"model_1\"\n",
      "_________________________________________________________________\n",
      "Layer (type)                 Output Shape              Param #   \n",
      "=================================================================\n",
      "input_1 (InputLayer)         (None, 100)               0         \n",
      "_________________________________________________________________\n",
      "embedding_1 (Embedding)      (None, 100, 100)          13514600  \n",
      "_________________________________________________________________\n",
      "bidirectional_1 (Bidirection (None, 100, 100)          60400     \n",
      "_________________________________________________________________\n",
      "global_average_pooling1d_1 ( (None, 100)               0         \n",
      "_________________________________________________________________\n",
      "dense_1 (Dense)              (None, 50)                5050      \n",
      "_________________________________________________________________\n",
      "dropout_1 (Dropout)          (None, 50)                0         \n",
      "_________________________________________________________________\n",
      "dense_2 (Dense)              (None, 6)                 306       \n",
      "=================================================================\n",
      "Total params: 13,580,356\n",
      "Trainable params: 13,580,356\n",
      "Non-trainable params: 0\n",
      "_________________________________________________________________\n"
     ]
    }
   ],
   "source": [
    "from numpy import loadtxt\n",
    "from keras.models import load_model\n",
    " \n",
    "# load model\n",
    "model = load_model('../trained_model/model_new.h5')\n",
    "# summarize model.\n",
    "model.summary()"
   ]
  },
  {
   "cell_type": "code",
   "execution_count": 28,
   "metadata": {},
   "outputs": [
    {
     "data": {
      "text/plain": [
       "(47872,)"
      ]
     },
     "execution_count": 28,
     "metadata": {},
     "output_type": "execute_result"
    }
   ],
   "source": [
    "X_test.shape"
   ]
  },
  {
   "cell_type": "code",
   "execution_count": 29,
   "metadata": {},
   "outputs": [
    {
     "name": "stdout",
     "output_type": "stream",
     "text": [
      "47872\n"
     ]
    }
   ],
   "source": [
    "#token = text.Tokenizer(num_words = 30000)\n",
    "\n",
    "#token = Tokenizer(num_words = max_feature)\n",
    "#token.fit_on_texts(X_test)\n",
    "#vocab_size = len(token.word_index) + 1\n",
    "# integer encode the documents\n",
    "encoded_docs_test = token.texts_to_sequences(X_test)\n",
    "#print(encoded_docs_test)\n",
    "# pad documents to a max length of  100 words\n",
    "\n",
    "padded_docs_test = pad_sequences(encoded_docs_test, maxlen=100, padding='post')\n",
    "print(len(padded_docs_test))"
   ]
  },
  {
   "cell_type": "code",
   "execution_count": 80,
   "metadata": {},
   "outputs": [
    {
     "data": {
      "text/plain": [
       "array([1, 1, 1, 0, 1, 0], dtype=int64)"
      ]
     },
     "execution_count": 80,
     "metadata": {},
     "output_type": "execute_result"
    }
   ],
   "source": [
    "y_test[1000]"
   ]
  },
  {
   "cell_type": "code",
   "execution_count": null,
   "metadata": {},
   "outputs": [],
   "source": [
    "len(X_test)"
   ]
  },
  {
   "cell_type": "code",
   "execution_count": 47,
   "metadata": {},
   "outputs": [
    {
     "data": {
      "text/plain": [
       "array([0, 0, 0, 0, 0, 0], dtype=int64)"
      ]
     },
     "execution_count": 47,
     "metadata": {},
     "output_type": "execute_result"
    }
   ],
   "source": [
    "y_test[7000]"
   ]
  },
  {
   "cell_type": "code",
   "execution_count": 30,
   "metadata": {},
   "outputs": [],
   "source": [
    "predict_test = model.predict(padded_docs_test)"
   ]
  },
  {
   "cell_type": "code",
   "execution_count": 82,
   "metadata": {},
   "outputs": [
    {
     "data": {
      "text/plain": [
       "array([0.41385224, 0.02016247, 0.2800479 , 0.01562639, 0.23162438,\n",
       "       0.03868654], dtype=float32)"
      ]
     },
     "execution_count": 82,
     "metadata": {},
     "output_type": "execute_result"
    }
   ],
   "source": [
    "predict_test[1000]"
   ]
  },
  {
   "cell_type": "code",
   "execution_count": 33,
   "metadata": {},
   "outputs": [],
   "source": [
    "#Testting score\n",
    "_, test_acc = model.evaluate(padded_docs_test, y_test, verbose=0)"
   ]
  },
  {
   "cell_type": "code",
   "execution_count": 34,
   "metadata": {},
   "outputs": [
    {
     "data": {
      "text/plain": [
       "0.9911639094352722"
      ]
     },
     "execution_count": 34,
     "metadata": {},
     "output_type": "execute_result"
    }
   ],
   "source": [
    "\n",
    "test_acc"
   ]
  },
  {
   "cell_type": "code",
   "execution_count": 31,
   "metadata": {},
   "outputs": [
    {
     "name": "stderr",
     "output_type": "stream",
     "text": [
      "C:\\Users\\abhis_000\\Anaconda3\\lib\\site-packages\\sklearn\\metrics\\classification.py:1135: UndefinedMetricWarning: Precision and F-score are ill-defined and being set to 0.0 in labels with no predicted samples.\n",
      "  'precision', 'predicted', average, warn_for)\n"
     ]
    }
   ],
   "source": [
    "from sklearn import metrics\n",
    "matrix = metrics.classification_report(y_test.argmax(axis=1), predict_test.argmax(axis=1))"
   ]
  },
  {
   "cell_type": "code",
   "execution_count": 32,
   "metadata": {},
   "outputs": [
    {
     "name": "stdout",
     "output_type": "stream",
     "text": [
      "             precision    recall  f1-score   support\n",
      "\n",
      "          0       0.99      1.00      1.00     47587\n",
      "          2       0.04      0.03      0.03       157\n",
      "          3       0.00      0.00      0.00         5\n",
      "          4       0.00      0.00      0.00       109\n",
      "          5       0.00      0.00      0.00        14\n",
      "\n",
      "avg / total       0.99      0.99      0.99     47872\n",
      "\n"
     ]
    }
   ],
   "source": [
    "print(matrix)"
   ]
  },
  {
   "cell_type": "markdown",
   "metadata": {},
   "source": [
    "# conclusion:We had good training and testing score, but data was imbalance so we did not got good f1 score for all the classes"
   ]
  },
  {
   "cell_type": "markdown",
   "metadata": {},
   "source": [
    "# Second approach"
   ]
  },
  {
   "cell_type": "code",
   "execution_count": null,
   "metadata": {},
   "outputs": [],
   "source": [
    "#below i will balance the data and will try to train the model with general approach"
   ]
  },
  {
   "cell_type": "code",
   "execution_count": 38,
   "metadata": {},
   "outputs": [
    {
     "data": {
      "text/plain": [
       "toxic            15294\n",
       "severe_toxic      1595\n",
       "obscene           8449\n",
       "threat             478\n",
       "insult            7877\n",
       "identity_hate     1405\n",
       "dtype: int64"
      ]
     },
     "execution_count": 38,
     "metadata": {},
     "output_type": "execute_result"
    }
   ],
   "source": [
    "data_count=training_data.iloc[:,2:].sum()\n",
    "data_count"
   ]
  },
  {
   "cell_type": "code",
   "execution_count": 37,
   "metadata": {},
   "outputs": [],
   "source": [
    "#will go though general approach to deal this multiclass problem\n",
    "#will create seperate data for each class"
   ]
  },
  {
   "cell_type": "code",
   "execution_count": 39,
   "metadata": {},
   "outputs": [],
   "source": [
    "data_toxic = training_data.loc[:,['id','comment_text','toxic']]\n",
    "data_sev_tox = training_data.loc[:,['id','comment_text','severe_toxic']]\n",
    "data_obscene = training_data.loc[:,['id','comment_text','obscene']]\n",
    "data_threat = training_data.loc[:,['id','comment_text','threat']]\n",
    "data_insult = training_data.loc[:,['id','comment_text','insult']]\n",
    "data_ihate = training_data.loc[:,['id','comment_text','identity_hate']]"
   ]
  },
  {
   "cell_type": "code",
   "execution_count": 42,
   "metadata": {},
   "outputs": [],
   "source": [
    "#balancing the data\n",
    "#will randomly choose specified number of observation \n",
    "#toxic class\n",
    "data_toxic_1 = data_toxic[data_toxic['toxic'] == 1].iloc[0:6000,:]\n",
    "data_toxic_0 = data_toxic[data_toxic['toxic'] == 0].iloc[0:6000,:]\n",
    "data_toxic_final = pd.concat([data_toxic_1, data_toxic_0], axis=0)"
   ]
  },
  {
   "cell_type": "code",
   "execution_count": 65,
   "metadata": {},
   "outputs": [],
   "source": [
    "#severe_toxic\n",
    "data_sev_tox_1 = data_sev_tox[data_sev_tox['severe_toxic'] == 1].iloc[0:1595,:]\n",
    "data_sev_tox_0 = data_sev_tox[data_sev_tox['severe_toxic'] == 0].iloc[0:4000,:]\n",
    "data_sev_tox_final = pd.concat([data_sev_tox_0, data_sev_tox_1], axis=0)\n",
    "\n",
    "#obscene\n",
    "data_obscene_1 = data_obscene[data_obscene['obscene'] == 1].iloc[0:6000,:]\n",
    "data_obscene_0 = data_obscene[data_obscene['obscene'] == 0].iloc[0:6000,:]\n",
    "data_obscene_final = pd.concat([data_obscene_1, data_obscene_0], axis=0)\n",
    "#data_threat\n",
    "data_threat_1 = data_threat[data_threat['threat'] == 1].iloc[0:478,:]\n",
    "data_threat_0 = data_threat[data_threat['threat'] == 0].iloc[0:1500,:]\n",
    "data_threat_final = pd.concat([data_threat_1, data_threat_0], axis=0)\n",
    "#insult\n",
    "data_insult_1 = data_insult[data_insult['insult'] == 1].iloc[0:6000,:]\n",
    "data_insult_0 = data_insult[data_insult['insult'] == 0].iloc[0:6000,:]\n",
    "data_insult_final = pd.concat([data_insult_1, data_insult_0], axis=0)\n",
    "#identity_hate\n",
    "data_ihate_1 = data_ihate[data_ihate['identity_hate'] == 1].iloc[0:1405,:]\n",
    "data_ihate_0 = data_ihate[data_ihate['identity_hate'] == 0].iloc[0:4200,:]\n",
    "data_ihate_final = pd.concat([data_ihate_1, data_ihate_0], axis=0)"
   ]
  },
  {
   "cell_type": "code",
   "execution_count": 66,
   "metadata": {},
   "outputs": [
    {
     "name": "stdout",
     "output_type": "stream",
     "text": [
      "(12000, 3)\n",
      "(5595, 3)\n",
      "(12000, 3)\n",
      "(1978, 3)\n",
      "(12000, 3)\n",
      "(5605, 3)\n"
     ]
    }
   ],
   "source": [
    "#shape of each seperate dataset\n",
    "print(data_toxic_final.shape)\n",
    "print(data_sev_tox_final.shape)\n",
    "print(data_obscene_final.shape)\n",
    "print(data_threat_final.shape)\n",
    "print(data_insult_final.shape)\n",
    "print(data_ihate_final.shape)"
   ]
  },
  {
   "cell_type": "code",
   "execution_count": 60,
   "metadata": {},
   "outputs": [],
   "source": [
    "#function to do TfIdf,ngram to capture sementics\n",
    "from sklearn import svm\n",
    "def cv_tf_train_test(df_done,label,vectorizer,ngram):\n",
    "\n",
    "    ''' Train/Test split'''\n",
    "    # Split the data into X and y data sets\n",
    "    X = df_done.comment_text\n",
    "    y = df_done[label]\n",
    "\n",
    "    # Split our data into training and test data \n",
    "    X_train, X_test, y_train, y_test = train_test_split(X, y, test_size=0.3, random_state=42)\n",
    "\n",
    "    ''' Count Vectorizer/TF-IDF '''\n",
    "\n",
    "    # Vectorzation\n",
    "    cv1 = vectorizer(ngram_range=(ngram), stop_words='english')\n",
    "    \n",
    "    X_train_cv1 = cv1.fit_transform(X_train) # Learn the vocabulary dictionary and return term-document matrix\n",
    "    X_test_cv1  = cv1.transform(X_test)      # Learn a vocabulary dictionary of all tokens in the raw documents.\n",
    "    \n",
    "    # Output a Dataframe of the CountVectorizer with unique words as the labels\n",
    "    # test = pd.DataFrame(X_train_cv1.toarray(), columns=cv1.get_feature_names())\n",
    "    #training with different models'''\n",
    "    \n",
    "    mnb = MultinomialNB()\n",
    "    mnb.fit(X_train_cv1, y_train)\n",
    "    print('Multnomial done')\n",
    "    \n",
    "    svm_model = LinearSVC()\n",
    "    svm_model.fit(X_train_cv1, y_train)\n",
    "    print('svm completed')\n",
    "    randomforest = RandomForestClassifier(n_estimators=100, random_state=42)\n",
    "    randomforest.fit(X_train_cv1, y_train)\n",
    "    print('RandomForest done')\n",
    "    \n",
    "    # Create a list of F1 score of all models \n",
    "    f1_score_data = {'F1 Score':[f1_score(mnb.predict(X_test_cv1), y_test),f1_score(svm_model.predict(X_test_cv1), y_test), f1_score(randomforest.predict(X_test_cv1), y_test)]} \n",
    "                          \n",
    "    # Create DataFrame with the model names as column labels\n",
    "    df_f1 = pd.DataFrame(f1_score_data, index=['MultinomialNB', 'SVM', 'Random Forest'])  \n",
    "\n",
    "    return df_f1"
   ]
  },
  {
   "cell_type": "code",
   "execution_count": 61,
   "metadata": {},
   "outputs": [
    {
     "name": "stdout",
     "output_type": "stream",
     "text": [
      "Multnomial done\n",
      "svm completed\n",
      "RandomForest done\n"
     ]
    }
   ],
   "source": [
    "df_tox_cv = cv_tf_train_test(data_toxic_final, 'toxic', TfidfVectorizer, (1,1))\n",
    "df_tox_cv.rename(columns={'F1 Score': 'F1 Score(toxic)'}, inplace=True)"
   ]
  },
  {
   "cell_type": "code",
   "execution_count": 62,
   "metadata": {},
   "outputs": [
    {
     "data": {
      "text/html": [
       "<div>\n",
       "<style scoped>\n",
       "    .dataframe tbody tr th:only-of-type {\n",
       "        vertical-align: middle;\n",
       "    }\n",
       "\n",
       "    .dataframe tbody tr th {\n",
       "        vertical-align: top;\n",
       "    }\n",
       "\n",
       "    .dataframe thead th {\n",
       "        text-align: right;\n",
       "    }\n",
       "</style>\n",
       "<table border=\"1\" class=\"dataframe\">\n",
       "  <thead>\n",
       "    <tr style=\"text-align: right;\">\n",
       "      <th></th>\n",
       "      <th>F1 Score(toxic)</th>\n",
       "    </tr>\n",
       "  </thead>\n",
       "  <tbody>\n",
       "    <tr>\n",
       "      <th>MultinomialNB</th>\n",
       "      <td>0.881432</td>\n",
       "    </tr>\n",
       "    <tr>\n",
       "      <th>SVM</th>\n",
       "      <td>0.876789</td>\n",
       "    </tr>\n",
       "    <tr>\n",
       "      <th>Random Forest</th>\n",
       "      <td>0.854386</td>\n",
       "    </tr>\n",
       "  </tbody>\n",
       "</table>\n",
       "</div>"
      ],
      "text/plain": [
       "               F1 Score(toxic)\n",
       "MultinomialNB         0.881432\n",
       "SVM                   0.876789\n",
       "Random Forest         0.854386"
      ]
     },
     "execution_count": 62,
     "metadata": {},
     "output_type": "execute_result"
    }
   ],
   "source": [
    "df_tox_cv"
   ]
  },
  {
   "cell_type": "code",
   "execution_count": null,
   "metadata": {},
   "outputs": [],
   "source": [
    "print(data_toxic_final.shape)\n",
    "print(data_sev_tox_final.shape)\n",
    "print(data_obscene_final.shape)\n",
    "print(data_threat_final.shape)\n",
    "print(data_insult_final.shape)\n",
    "print(data_ihate_final.shape)"
   ]
  },
  {
   "cell_type": "code",
   "execution_count": 64,
   "metadata": {},
   "outputs": [
    {
     "data": {
      "text/plain": [
       "1    3190\n",
       "Name: severe_toxic, dtype: int64"
      ]
     },
     "execution_count": 64,
     "metadata": {},
     "output_type": "execute_result"
    }
   ],
   "source": [
    "data_sev_tox_final['severe_toxic'].value_counts()"
   ]
  },
  {
   "cell_type": "code",
   "execution_count": 68,
   "metadata": {},
   "outputs": [
    {
     "name": "stdout",
     "output_type": "stream",
     "text": [
      "Multnomial done\n",
      "svm completed\n",
      "RandomForest done\n",
      "Multnomial done\n",
      "svm completed\n",
      "RandomForest done\n",
      "Multnomial done\n",
      "svm completed\n",
      "RandomForest done\n",
      "Multnomial done\n",
      "svm completed\n",
      "RandomForest done\n",
      "Multnomial done\n",
      "svm completed\n",
      "RandomForest done\n"
     ]
    }
   ],
   "source": [
    "#cv_tf_train_test will return a dataframe having F1 score corrsponds to different models\n",
    "df_st_cv = cv_tf_train_test(data_sev_tox_final, 'severe_toxic', TfidfVectorizer, (1,1))\n",
    "df_st_cv.rename(columns={'F1 Score': 'F1 Score(severe_toxic)'}, inplace=True)\n",
    "\n",
    "df_obs_cv = cv_tf_train_test(data_obscene_final, 'obscene', TfidfVectorizer, (1,1))\n",
    "df_obs_cv.rename(columns={'F1 Score': 'F1 Score(obscene)'}, inplace=True)\n",
    "\n",
    "df_tht_cv = cv_tf_train_test(data_threat_final, 'threat', TfidfVectorizer, (1,1))\n",
    "df_tht_cv.rename(columns={'F1 Score': 'F1 Score(threat)'}, inplace=True)\n",
    "\n",
    "df_ins_cv = cv_tf_train_test(data_insult_final, 'insult', TfidfVectorizer, (1,1))\n",
    "df_ins_cv.rename(columns={'F1 Score': 'F1 Score(insult)'}, inplace=True)\n",
    "\n",
    "df_ihate_cv= cv_tf_train_test(data_ihate_final, 'identity_hate', TfidfVectorizer, (1,1))\n",
    "df_ihate_cv.rename(columns={'F1 Score': 'F1 Score(identity_hate)'}, inplace=True)"
   ]
  },
  {
   "cell_type": "code",
   "execution_count": 69,
   "metadata": {},
   "outputs": [
    {
     "data": {
      "text/html": [
       "<div>\n",
       "<style scoped>\n",
       "    .dataframe tbody tr th:only-of-type {\n",
       "        vertical-align: middle;\n",
       "    }\n",
       "\n",
       "    .dataframe tbody tr th {\n",
       "        vertical-align: top;\n",
       "    }\n",
       "\n",
       "    .dataframe thead th {\n",
       "        text-align: right;\n",
       "    }\n",
       "</style>\n",
       "<table border=\"1\" class=\"dataframe\">\n",
       "  <thead>\n",
       "    <tr style=\"text-align: right;\">\n",
       "      <th></th>\n",
       "      <th>F1 Score(toxic)</th>\n",
       "      <th>F1 Score(severe_toxic)</th>\n",
       "      <th>F1 Score(obscene)</th>\n",
       "      <th>F1 Score(insult)</th>\n",
       "      <th>F1 Score(threat)</th>\n",
       "      <th>F1 Score(identity_hate)</th>\n",
       "    </tr>\n",
       "  </thead>\n",
       "  <tbody>\n",
       "    <tr>\n",
       "      <th>MultinomialNB</th>\n",
       "      <td>0.881432</td>\n",
       "      <td>0.822086</td>\n",
       "      <td>0.900601</td>\n",
       "      <td>0.893676</td>\n",
       "      <td>0.669683</td>\n",
       "      <td>0.640227</td>\n",
       "    </tr>\n",
       "    <tr>\n",
       "      <th>SVM</th>\n",
       "      <td>0.876789</td>\n",
       "      <td>0.895623</td>\n",
       "      <td>0.927528</td>\n",
       "      <td>0.904962</td>\n",
       "      <td>0.843284</td>\n",
       "      <td>0.820930</td>\n",
       "    </tr>\n",
       "    <tr>\n",
       "      <th>Random Forest</th>\n",
       "      <td>0.854386</td>\n",
       "      <td>0.895259</td>\n",
       "      <td>0.906903</td>\n",
       "      <td>0.890049</td>\n",
       "      <td>0.838462</td>\n",
       "      <td>0.823799</td>\n",
       "    </tr>\n",
       "  </tbody>\n",
       "</table>\n",
       "</div>"
      ],
      "text/plain": [
       "               F1 Score(toxic)  F1 Score(severe_toxic)  F1 Score(obscene)  \\\n",
       "MultinomialNB         0.881432                0.822086           0.900601   \n",
       "SVM                   0.876789                0.895623           0.927528   \n",
       "Random Forest         0.854386                0.895259           0.906903   \n",
       "\n",
       "               F1 Score(insult)  F1 Score(threat)  F1 Score(identity_hate)  \n",
       "MultinomialNB          0.893676          0.669683                 0.640227  \n",
       "SVM                    0.904962          0.843284                 0.820930  \n",
       "Random Forest          0.890049          0.838462                 0.823799  "
      ]
     },
     "execution_count": 69,
     "metadata": {},
     "output_type": "execute_result"
    }
   ],
   "source": [
    "# Let's combine the dataframes into a master dataframe to compare F1 scores across all categories.\n",
    "f1_all = pd.concat([df_tox_cv, df_st_cv, df_obs_cv, df_ins_cv, df_tht_cv, df_ihate_cv], axis=1)\n",
    "f1_all"
   ]
  },
  {
   "cell_type": "code",
   "execution_count": null,
   "metadata": {},
   "outputs": [],
   "source": [
    "#looking into above F1 score we can say can select SVM or Random Forest"
   ]
  },
  {
   "cell_type": "code",
   "execution_count": 74,
   "metadata": {},
   "outputs": [],
   "source": [
    "datalist = [data_toxic_final, data_sev_tox_final,data_obscene_final,data_threat_final,data_insult_final,data_ihate_final]\n",
    "label = ['toxic', 'severe_toxic', 'obscene','threat', 'insult','identity_hate']"
   ]
  },
  {
   "cell_type": "code",
   "execution_count": 75,
   "metadata": {},
   "outputs": [],
   "source": [
    "zipped_data = zip(datalist,label)"
   ]
  },
  {
   "cell_type": "code",
   "execution_count": 76,
   "metadata": {},
   "outputs": [],
   "source": []
  },
  {
   "cell_type": "code",
   "execution_count": 81,
   "metadata": {},
   "outputs": [
    {
     "data": {
      "text/plain": [
       "42      you are gay or antisemmitian    archangel whit...\n",
       "105            a pair of jew hating weiner nazi schmucks \n",
       "176     i think that your a fagget get a oife and burn...\n",
       "218     kill all niggers    i have hard  that others h...\n",
       "238     u r a tw  fuck off u gay boy u r smelly fuck u...\n",
       "429     gay   the existence of cdvf is further proof t...\n",
       "521     dictionaries  how dare you call my contributio...\n",
       "887     you gay motherfucker i know where you live i a...\n",
       "952     you studid cock sucker u stop callin me ok its...\n",
       "1017    wouldn t be the first time bitch  fuck you i l...\n",
       "Name: comment_text, dtype: object"
      ]
     },
     "execution_count": 81,
     "metadata": {},
     "output_type": "execute_result"
    }
   ],
   "source": [
    "X[0:10]"
   ]
  },
  {
   "cell_type": "code",
   "execution_count": 84,
   "metadata": {},
   "outputs": [
    {
     "data": {
      "text/plain": [
       "pandas.core.series.Series"
      ]
     },
     "execution_count": 84,
     "metadata": {},
     "output_type": "execute_result"
    }
   ],
   "source": [
    "type(y)"
   ]
  },
  {
   "cell_type": "code",
   "execution_count": null,
   "metadata": {},
   "outputs": [],
   "source": [
    "'''import pickle\n",
    "with open('../trained_model/token.pickle', 'wb') as f:\n",
    "    pickle.dump(token, f)'''"
   ]
  },
  {
   "cell_type": "code",
   "execution_count": 89,
   "metadata": {},
   "outputs": [],
   "source": [
    "#this function will train 6 different dataset with RF abd will crete apickle file for tftdf and model seperatly.\n",
    "#saving those pickle file into trained model folder\n",
    "def pickle_model(df, label):\n",
    "    \n",
    "    X = df.comment_text\n",
    "    y = df[label]\n",
    "    tfidf = TfidfVectorizer(ngram_range=(1,1), stop_words='english')\n",
    "    \n",
    "    # DT matrix\n",
    "    X_vect = tfidf.fit_transform(X)  \n",
    "    with open('../trained_model/{}.pickle'.format(label + '_vect'), \"wb\") as f:   \n",
    "        pickle.dump(tfidf, f)   \n",
    "    randomforest = RandomForestClassifier(n_estimators=100, random_state=42)\n",
    "    randomforest.fit(X_vect, y)\n",
    "    # Create a new pickle file based on random forest\n",
    "    with open('../trained_model/{}.pickle'.format(label + '_model'), \"wb\") as f:  \n",
    "        pickle.dump(randomforest, f)"
   ]
  },
  {
   "cell_type": "code",
   "execution_count": 91,
   "metadata": {},
   "outputs": [],
   "source": [
    "#using function pickle_model\n",
    "for i, j in zip(datalist,label):\n",
    "    pickle_model(i, j)"
   ]
  },
  {
   "cell_type": "code",
   "execution_count": 93,
   "metadata": {},
   "outputs": [],
   "source": [
    "#read the pickle file one by one to avoid the mistake\n",
    "with open('../trained_model/toxic_vect.pickle','rb') as f:\n",
    "    toxic_vect = pickle.load(f)\n",
    "with open('../trained_model/obscene_vect.pickle','rb') as f:\n",
    "    obscene_vect = pickle.load(f)\n",
    "with open('../trained_model/severe_toxic_vect.pickle','rb') as f:\n",
    "    severe_toxic_vect = pickle.load(f)\n",
    "with open('../trained_model/threat_vect.pickle','rb') as f:\n",
    "    threat_vect = pickle.load(f)\n",
    "with open('../trained_model/insult_vect.pickle','rb') as f:\n",
    "    insult_vect = pickle.load(f)\n",
    "with open('../trained_model/identity_hate_vect.pickle','rb') as f:\n",
    "    identity_hate_vect = pickle.load(f)\n",
    "    \n",
    "with open('../trained_model/toxic_model.pickle','rb') as f:\n",
    "    toxic_model = pickle.load(f)\n",
    "with open('../trained_model/obscene_model.pickle','rb') as f:\n",
    "    obscene_model = pickle.load(f)\n",
    "with open('../trained_model/severe_toxic_model.pickle','rb') as f:\n",
    "    severe_toxic_model = pickle.load(f)\n",
    "with open('../trained_model/threat_model.pickle','rb') as f:\n",
    "    threat_model = pickle.load(f)\n",
    "with open('../trained_model/insult_model.pickle','rb') as f:\n",
    "    insult_model = pickle.load(f)\n",
    "with open('../trained_model/identity_hate_model.pickle','rb') as f:\n",
    "    identity_hate_model = pickle.load(f)\n"
   ]
  },
  {
   "cell_type": "code",
   "execution_count": 118,
   "metadata": {},
   "outputs": [],
   "source": [
    "#loading the test data and do prediction for classes\n",
    "def prediction(test_df,vect,model):\n",
    "    X = test_df.comment_text\n",
    "    ohe = vect.transform(X)\n",
    "    predict = model.predict(ohe)\n",
    "    return predict\n",
    "    \n",
    "    \n",
    "    "
   ]
  },
  {
   "cell_type": "code",
   "execution_count": 153,
   "metadata": {},
   "outputs": [],
   "source": [
    "#loading test data\n",
    "test_data = pd.read_csv('../Data/test.csv/test.csv')"
   ]
  },
  {
   "cell_type": "code",
   "execution_count": 154,
   "metadata": {},
   "outputs": [
    {
     "data": {
      "text/plain": [
       "(153164, 2)"
      ]
     },
     "execution_count": 154,
     "metadata": {},
     "output_type": "execute_result"
    }
   ],
   "source": [
    "test_data.shape"
   ]
  },
  {
   "cell_type": "code",
   "execution_count": 156,
   "metadata": {},
   "outputs": [],
   "source": [
    "#prediction with different models\n",
    "predic_toxic = prediction(test_data,toxic_vect,toxic_model)\n",
    "predic_severe_toxic = prediction(test_data,severe_toxic_vect,severe_toxic_model)\n",
    "predic_obscene = prediction(test_data,obscene_vect,obscene_model)\n",
    "predic_threat = prediction(test_data,threat_vect,threat_model)\n",
    "predic_insult = prediction(test_data,insult_vect,insult_model)\n",
    "predic_identity_hate = prediction(test_data,identity_hate_vect,identity_hate_model)\n",
    "\n"
   ]
  },
  {
   "cell_type": "code",
   "execution_count": 157,
   "metadata": {},
   "outputs": [
    {
     "name": "stdout",
     "output_type": "stream",
     "text": [
      "153164\n",
      "153164\n",
      "153164\n",
      "153164\n",
      "153164\n",
      "153164\n"
     ]
    }
   ],
   "source": [
    "print(len(predic_toxic))\n",
    "print(len(predic_severe_toxic))\n",
    "print(len(predic_obscene))\n",
    "print(len(predic_threat))\n",
    "print(len(predic_insult))\n",
    "print(len(predic_identity_hate))\n",
    "\n",
    "\n",
    "\n"
   ]
  },
  {
   "cell_type": "code",
   "execution_count": 158,
   "metadata": {},
   "outputs": [],
   "source": [
    "# dataframe for prediction class\n",
    "dict = {'toxic':predic_toxic,'severe_toxic':predic_severe_toxic,'obscene':predic_obscene,'threat':predic_threat,\n",
    "        'insult':predic_insult,'identity_hate':predic_identity_hate}\n",
    "class_df = pd.DataFrame(dict)"
   ]
  },
  {
   "cell_type": "code",
   "execution_count": 159,
   "metadata": {},
   "outputs": [
    {
     "data": {
      "text/plain": [
       "toxic            40414\n",
       "severe_toxic     16572\n",
       "obscene          30462\n",
       "threat            6900\n",
       "insult           31089\n",
       "identity_hate    15041\n",
       "dtype: int64"
      ]
     },
     "execution_count": 159,
     "metadata": {},
     "output_type": "execute_result"
    }
   ],
   "source": [
    "#count of prediction in test data\n",
    "class_df.iloc[:,0:].sum()"
   ]
  },
  {
   "cell_type": "code",
   "execution_count": 160,
   "metadata": {},
   "outputs": [
    {
     "data": {
      "text/plain": [
       "0    Yo bitch Ja Rule is more succesful then you'll...\n",
       "1    == From RfC == \\n\\n The title is fine as it is...\n",
       "2    \" \\n\\n == Sources == \\n\\n * Zawe Ashton on Lap...\n",
       "3    :If you have a look back at the source, the in...\n",
       "4            I don't anonymously edit articles at all.\n",
       "Name: comment_text, dtype: object"
      ]
     },
     "execution_count": 160,
     "metadata": {},
     "output_type": "execute_result"
    }
   ],
   "source": [
    "test_data['comment_text'].head()"
   ]
  },
  {
   "cell_type": "code",
   "execution_count": 161,
   "metadata": {},
   "outputs": [
    {
     "data": {
      "text/plain": [
       "Index(['id', 'comment_text'], dtype='object')"
      ]
     },
     "execution_count": 161,
     "metadata": {},
     "output_type": "execute_result"
    }
   ],
   "source": [
    "test_data.columns\n"
   ]
  },
  {
   "cell_type": "code",
   "execution_count": 163,
   "metadata": {},
   "outputs": [
    {
     "data": {
      "text/html": [
       "<div>\n",
       "<style scoped>\n",
       "    .dataframe tbody tr th:only-of-type {\n",
       "        vertical-align: middle;\n",
       "    }\n",
       "\n",
       "    .dataframe tbody tr th {\n",
       "        vertical-align: top;\n",
       "    }\n",
       "\n",
       "    .dataframe thead th {\n",
       "        text-align: right;\n",
       "    }\n",
       "</style>\n",
       "<table border=\"1\" class=\"dataframe\">\n",
       "  <thead>\n",
       "    <tr style=\"text-align: right;\">\n",
       "      <th></th>\n",
       "      <th>toxic</th>\n",
       "      <th>severe_toxic</th>\n",
       "      <th>obscene</th>\n",
       "      <th>threat</th>\n",
       "      <th>insult</th>\n",
       "      <th>identity_hate</th>\n",
       "    </tr>\n",
       "  </thead>\n",
       "  <tbody>\n",
       "    <tr>\n",
       "      <th>0</th>\n",
       "      <td>1</td>\n",
       "      <td>1</td>\n",
       "      <td>1</td>\n",
       "      <td>1</td>\n",
       "      <td>1</td>\n",
       "      <td>1</td>\n",
       "    </tr>\n",
       "    <tr>\n",
       "      <th>1</th>\n",
       "      <td>0</td>\n",
       "      <td>0</td>\n",
       "      <td>0</td>\n",
       "      <td>0</td>\n",
       "      <td>0</td>\n",
       "      <td>0</td>\n",
       "    </tr>\n",
       "    <tr>\n",
       "      <th>2</th>\n",
       "      <td>0</td>\n",
       "      <td>0</td>\n",
       "      <td>0</td>\n",
       "      <td>0</td>\n",
       "      <td>0</td>\n",
       "      <td>0</td>\n",
       "    </tr>\n",
       "    <tr>\n",
       "      <th>3</th>\n",
       "      <td>0</td>\n",
       "      <td>0</td>\n",
       "      <td>0</td>\n",
       "      <td>0</td>\n",
       "      <td>0</td>\n",
       "      <td>0</td>\n",
       "    </tr>\n",
       "    <tr>\n",
       "      <th>4</th>\n",
       "      <td>0</td>\n",
       "      <td>0</td>\n",
       "      <td>0</td>\n",
       "      <td>0</td>\n",
       "      <td>0</td>\n",
       "      <td>0</td>\n",
       "    </tr>\n",
       "    <tr>\n",
       "      <th>5</th>\n",
       "      <td>0</td>\n",
       "      <td>0</td>\n",
       "      <td>0</td>\n",
       "      <td>0</td>\n",
       "      <td>0</td>\n",
       "      <td>0</td>\n",
       "    </tr>\n",
       "    <tr>\n",
       "      <th>6</th>\n",
       "      <td>0</td>\n",
       "      <td>0</td>\n",
       "      <td>0</td>\n",
       "      <td>0</td>\n",
       "      <td>0</td>\n",
       "      <td>0</td>\n",
       "    </tr>\n",
       "    <tr>\n",
       "      <th>7</th>\n",
       "      <td>1</td>\n",
       "      <td>0</td>\n",
       "      <td>0</td>\n",
       "      <td>0</td>\n",
       "      <td>0</td>\n",
       "      <td>0</td>\n",
       "    </tr>\n",
       "    <tr>\n",
       "      <th>8</th>\n",
       "      <td>0</td>\n",
       "      <td>0</td>\n",
       "      <td>0</td>\n",
       "      <td>0</td>\n",
       "      <td>0</td>\n",
       "      <td>0</td>\n",
       "    </tr>\n",
       "    <tr>\n",
       "      <th>9</th>\n",
       "      <td>0</td>\n",
       "      <td>0</td>\n",
       "      <td>0</td>\n",
       "      <td>0</td>\n",
       "      <td>0</td>\n",
       "      <td>0</td>\n",
       "    </tr>\n",
       "    <tr>\n",
       "      <th>10</th>\n",
       "      <td>0</td>\n",
       "      <td>0</td>\n",
       "      <td>0</td>\n",
       "      <td>0</td>\n",
       "      <td>0</td>\n",
       "      <td>0</td>\n",
       "    </tr>\n",
       "    <tr>\n",
       "      <th>11</th>\n",
       "      <td>0</td>\n",
       "      <td>0</td>\n",
       "      <td>0</td>\n",
       "      <td>0</td>\n",
       "      <td>0</td>\n",
       "      <td>0</td>\n",
       "    </tr>\n",
       "    <tr>\n",
       "      <th>12</th>\n",
       "      <td>0</td>\n",
       "      <td>0</td>\n",
       "      <td>0</td>\n",
       "      <td>0</td>\n",
       "      <td>0</td>\n",
       "      <td>0</td>\n",
       "    </tr>\n",
       "    <tr>\n",
       "      <th>13</th>\n",
       "      <td>0</td>\n",
       "      <td>0</td>\n",
       "      <td>0</td>\n",
       "      <td>0</td>\n",
       "      <td>0</td>\n",
       "      <td>0</td>\n",
       "    </tr>\n",
       "    <tr>\n",
       "      <th>14</th>\n",
       "      <td>0</td>\n",
       "      <td>0</td>\n",
       "      <td>0</td>\n",
       "      <td>0</td>\n",
       "      <td>0</td>\n",
       "      <td>0</td>\n",
       "    </tr>\n",
       "    <tr>\n",
       "      <th>15</th>\n",
       "      <td>1</td>\n",
       "      <td>0</td>\n",
       "      <td>0</td>\n",
       "      <td>0</td>\n",
       "      <td>0</td>\n",
       "      <td>0</td>\n",
       "    </tr>\n",
       "    <tr>\n",
       "      <th>16</th>\n",
       "      <td>0</td>\n",
       "      <td>0</td>\n",
       "      <td>0</td>\n",
       "      <td>0</td>\n",
       "      <td>0</td>\n",
       "      <td>0</td>\n",
       "    </tr>\n",
       "    <tr>\n",
       "      <th>17</th>\n",
       "      <td>0</td>\n",
       "      <td>0</td>\n",
       "      <td>0</td>\n",
       "      <td>0</td>\n",
       "      <td>0</td>\n",
       "      <td>0</td>\n",
       "    </tr>\n",
       "    <tr>\n",
       "      <th>18</th>\n",
       "      <td>0</td>\n",
       "      <td>0</td>\n",
       "      <td>0</td>\n",
       "      <td>0</td>\n",
       "      <td>0</td>\n",
       "      <td>0</td>\n",
       "    </tr>\n",
       "    <tr>\n",
       "      <th>19</th>\n",
       "      <td>0</td>\n",
       "      <td>0</td>\n",
       "      <td>0</td>\n",
       "      <td>0</td>\n",
       "      <td>0</td>\n",
       "      <td>0</td>\n",
       "    </tr>\n",
       "    <tr>\n",
       "      <th>20</th>\n",
       "      <td>0</td>\n",
       "      <td>0</td>\n",
       "      <td>0</td>\n",
       "      <td>0</td>\n",
       "      <td>0</td>\n",
       "      <td>0</td>\n",
       "    </tr>\n",
       "    <tr>\n",
       "      <th>21</th>\n",
       "      <td>1</td>\n",
       "      <td>1</td>\n",
       "      <td>1</td>\n",
       "      <td>1</td>\n",
       "      <td>1</td>\n",
       "      <td>1</td>\n",
       "    </tr>\n",
       "    <tr>\n",
       "      <th>22</th>\n",
       "      <td>0</td>\n",
       "      <td>0</td>\n",
       "      <td>0</td>\n",
       "      <td>0</td>\n",
       "      <td>0</td>\n",
       "      <td>0</td>\n",
       "    </tr>\n",
       "    <tr>\n",
       "      <th>23</th>\n",
       "      <td>0</td>\n",
       "      <td>0</td>\n",
       "      <td>0</td>\n",
       "      <td>0</td>\n",
       "      <td>0</td>\n",
       "      <td>0</td>\n",
       "    </tr>\n",
       "    <tr>\n",
       "      <th>24</th>\n",
       "      <td>0</td>\n",
       "      <td>0</td>\n",
       "      <td>0</td>\n",
       "      <td>0</td>\n",
       "      <td>0</td>\n",
       "      <td>0</td>\n",
       "    </tr>\n",
       "    <tr>\n",
       "      <th>25</th>\n",
       "      <td>0</td>\n",
       "      <td>0</td>\n",
       "      <td>0</td>\n",
       "      <td>0</td>\n",
       "      <td>0</td>\n",
       "      <td>0</td>\n",
       "    </tr>\n",
       "    <tr>\n",
       "      <th>26</th>\n",
       "      <td>0</td>\n",
       "      <td>0</td>\n",
       "      <td>0</td>\n",
       "      <td>0</td>\n",
       "      <td>0</td>\n",
       "      <td>0</td>\n",
       "    </tr>\n",
       "    <tr>\n",
       "      <th>27</th>\n",
       "      <td>0</td>\n",
       "      <td>0</td>\n",
       "      <td>0</td>\n",
       "      <td>0</td>\n",
       "      <td>0</td>\n",
       "      <td>0</td>\n",
       "    </tr>\n",
       "    <tr>\n",
       "      <th>28</th>\n",
       "      <td>1</td>\n",
       "      <td>0</td>\n",
       "      <td>1</td>\n",
       "      <td>0</td>\n",
       "      <td>0</td>\n",
       "      <td>1</td>\n",
       "    </tr>\n",
       "    <tr>\n",
       "      <th>29</th>\n",
       "      <td>0</td>\n",
       "      <td>0</td>\n",
       "      <td>0</td>\n",
       "      <td>0</td>\n",
       "      <td>0</td>\n",
       "      <td>0</td>\n",
       "    </tr>\n",
       "    <tr>\n",
       "      <th>...</th>\n",
       "      <td>...</td>\n",
       "      <td>...</td>\n",
       "      <td>...</td>\n",
       "      <td>...</td>\n",
       "      <td>...</td>\n",
       "      <td>...</td>\n",
       "    </tr>\n",
       "    <tr>\n",
       "      <th>70</th>\n",
       "      <td>1</td>\n",
       "      <td>1</td>\n",
       "      <td>1</td>\n",
       "      <td>0</td>\n",
       "      <td>1</td>\n",
       "      <td>1</td>\n",
       "    </tr>\n",
       "    <tr>\n",
       "      <th>71</th>\n",
       "      <td>1</td>\n",
       "      <td>0</td>\n",
       "      <td>0</td>\n",
       "      <td>0</td>\n",
       "      <td>0</td>\n",
       "      <td>0</td>\n",
       "    </tr>\n",
       "    <tr>\n",
       "      <th>72</th>\n",
       "      <td>0</td>\n",
       "      <td>0</td>\n",
       "      <td>0</td>\n",
       "      <td>0</td>\n",
       "      <td>0</td>\n",
       "      <td>0</td>\n",
       "    </tr>\n",
       "    <tr>\n",
       "      <th>73</th>\n",
       "      <td>0</td>\n",
       "      <td>0</td>\n",
       "      <td>0</td>\n",
       "      <td>0</td>\n",
       "      <td>0</td>\n",
       "      <td>0</td>\n",
       "    </tr>\n",
       "    <tr>\n",
       "      <th>74</th>\n",
       "      <td>1</td>\n",
       "      <td>0</td>\n",
       "      <td>0</td>\n",
       "      <td>0</td>\n",
       "      <td>0</td>\n",
       "      <td>0</td>\n",
       "    </tr>\n",
       "    <tr>\n",
       "      <th>75</th>\n",
       "      <td>0</td>\n",
       "      <td>0</td>\n",
       "      <td>0</td>\n",
       "      <td>0</td>\n",
       "      <td>0</td>\n",
       "      <td>0</td>\n",
       "    </tr>\n",
       "    <tr>\n",
       "      <th>76</th>\n",
       "      <td>1</td>\n",
       "      <td>0</td>\n",
       "      <td>1</td>\n",
       "      <td>0</td>\n",
       "      <td>0</td>\n",
       "      <td>0</td>\n",
       "    </tr>\n",
       "    <tr>\n",
       "      <th>77</th>\n",
       "      <td>0</td>\n",
       "      <td>0</td>\n",
       "      <td>0</td>\n",
       "      <td>0</td>\n",
       "      <td>0</td>\n",
       "      <td>0</td>\n",
       "    </tr>\n",
       "    <tr>\n",
       "      <th>78</th>\n",
       "      <td>1</td>\n",
       "      <td>0</td>\n",
       "      <td>1</td>\n",
       "      <td>0</td>\n",
       "      <td>0</td>\n",
       "      <td>0</td>\n",
       "    </tr>\n",
       "    <tr>\n",
       "      <th>79</th>\n",
       "      <td>0</td>\n",
       "      <td>0</td>\n",
       "      <td>0</td>\n",
       "      <td>0</td>\n",
       "      <td>0</td>\n",
       "      <td>0</td>\n",
       "    </tr>\n",
       "    <tr>\n",
       "      <th>80</th>\n",
       "      <td>0</td>\n",
       "      <td>0</td>\n",
       "      <td>0</td>\n",
       "      <td>0</td>\n",
       "      <td>0</td>\n",
       "      <td>0</td>\n",
       "    </tr>\n",
       "    <tr>\n",
       "      <th>81</th>\n",
       "      <td>1</td>\n",
       "      <td>0</td>\n",
       "      <td>1</td>\n",
       "      <td>0</td>\n",
       "      <td>1</td>\n",
       "      <td>0</td>\n",
       "    </tr>\n",
       "    <tr>\n",
       "      <th>82</th>\n",
       "      <td>0</td>\n",
       "      <td>0</td>\n",
       "      <td>0</td>\n",
       "      <td>0</td>\n",
       "      <td>0</td>\n",
       "      <td>0</td>\n",
       "    </tr>\n",
       "    <tr>\n",
       "      <th>83</th>\n",
       "      <td>0</td>\n",
       "      <td>0</td>\n",
       "      <td>0</td>\n",
       "      <td>0</td>\n",
       "      <td>0</td>\n",
       "      <td>0</td>\n",
       "    </tr>\n",
       "    <tr>\n",
       "      <th>84</th>\n",
       "      <td>0</td>\n",
       "      <td>0</td>\n",
       "      <td>0</td>\n",
       "      <td>0</td>\n",
       "      <td>0</td>\n",
       "      <td>0</td>\n",
       "    </tr>\n",
       "    <tr>\n",
       "      <th>85</th>\n",
       "      <td>0</td>\n",
       "      <td>0</td>\n",
       "      <td>0</td>\n",
       "      <td>0</td>\n",
       "      <td>0</td>\n",
       "      <td>0</td>\n",
       "    </tr>\n",
       "    <tr>\n",
       "      <th>86</th>\n",
       "      <td>0</td>\n",
       "      <td>0</td>\n",
       "      <td>0</td>\n",
       "      <td>0</td>\n",
       "      <td>0</td>\n",
       "      <td>0</td>\n",
       "    </tr>\n",
       "    <tr>\n",
       "      <th>87</th>\n",
       "      <td>0</td>\n",
       "      <td>0</td>\n",
       "      <td>0</td>\n",
       "      <td>0</td>\n",
       "      <td>0</td>\n",
       "      <td>0</td>\n",
       "    </tr>\n",
       "    <tr>\n",
       "      <th>88</th>\n",
       "      <td>0</td>\n",
       "      <td>0</td>\n",
       "      <td>0</td>\n",
       "      <td>0</td>\n",
       "      <td>0</td>\n",
       "      <td>0</td>\n",
       "    </tr>\n",
       "    <tr>\n",
       "      <th>89</th>\n",
       "      <td>0</td>\n",
       "      <td>0</td>\n",
       "      <td>0</td>\n",
       "      <td>0</td>\n",
       "      <td>0</td>\n",
       "      <td>0</td>\n",
       "    </tr>\n",
       "    <tr>\n",
       "      <th>90</th>\n",
       "      <td>0</td>\n",
       "      <td>0</td>\n",
       "      <td>0</td>\n",
       "      <td>0</td>\n",
       "      <td>0</td>\n",
       "      <td>0</td>\n",
       "    </tr>\n",
       "    <tr>\n",
       "      <th>91</th>\n",
       "      <td>0</td>\n",
       "      <td>0</td>\n",
       "      <td>0</td>\n",
       "      <td>0</td>\n",
       "      <td>0</td>\n",
       "      <td>0</td>\n",
       "    </tr>\n",
       "    <tr>\n",
       "      <th>92</th>\n",
       "      <td>1</td>\n",
       "      <td>1</td>\n",
       "      <td>1</td>\n",
       "      <td>0</td>\n",
       "      <td>1</td>\n",
       "      <td>1</td>\n",
       "    </tr>\n",
       "    <tr>\n",
       "      <th>93</th>\n",
       "      <td>0</td>\n",
       "      <td>0</td>\n",
       "      <td>0</td>\n",
       "      <td>0</td>\n",
       "      <td>0</td>\n",
       "      <td>0</td>\n",
       "    </tr>\n",
       "    <tr>\n",
       "      <th>94</th>\n",
       "      <td>0</td>\n",
       "      <td>0</td>\n",
       "      <td>0</td>\n",
       "      <td>0</td>\n",
       "      <td>0</td>\n",
       "      <td>0</td>\n",
       "    </tr>\n",
       "    <tr>\n",
       "      <th>95</th>\n",
       "      <td>0</td>\n",
       "      <td>0</td>\n",
       "      <td>0</td>\n",
       "      <td>0</td>\n",
       "      <td>0</td>\n",
       "      <td>0</td>\n",
       "    </tr>\n",
       "    <tr>\n",
       "      <th>96</th>\n",
       "      <td>0</td>\n",
       "      <td>0</td>\n",
       "      <td>0</td>\n",
       "      <td>0</td>\n",
       "      <td>0</td>\n",
       "      <td>0</td>\n",
       "    </tr>\n",
       "    <tr>\n",
       "      <th>97</th>\n",
       "      <td>0</td>\n",
       "      <td>0</td>\n",
       "      <td>0</td>\n",
       "      <td>0</td>\n",
       "      <td>0</td>\n",
       "      <td>0</td>\n",
       "    </tr>\n",
       "    <tr>\n",
       "      <th>98</th>\n",
       "      <td>0</td>\n",
       "      <td>0</td>\n",
       "      <td>0</td>\n",
       "      <td>0</td>\n",
       "      <td>0</td>\n",
       "      <td>0</td>\n",
       "    </tr>\n",
       "    <tr>\n",
       "      <th>99</th>\n",
       "      <td>1</td>\n",
       "      <td>1</td>\n",
       "      <td>1</td>\n",
       "      <td>0</td>\n",
       "      <td>1</td>\n",
       "      <td>1</td>\n",
       "    </tr>\n",
       "  </tbody>\n",
       "</table>\n",
       "<p>100 rows × 6 columns</p>\n",
       "</div>"
      ],
      "text/plain": [
       "    toxic  severe_toxic  obscene  threat  insult  identity_hate\n",
       "0       1             1        1       1       1              1\n",
       "1       0             0        0       0       0              0\n",
       "2       0             0        0       0       0              0\n",
       "3       0             0        0       0       0              0\n",
       "4       0             0        0       0       0              0\n",
       "5       0             0        0       0       0              0\n",
       "6       0             0        0       0       0              0\n",
       "7       1             0        0       0       0              0\n",
       "8       0             0        0       0       0              0\n",
       "9       0             0        0       0       0              0\n",
       "10      0             0        0       0       0              0\n",
       "11      0             0        0       0       0              0\n",
       "12      0             0        0       0       0              0\n",
       "13      0             0        0       0       0              0\n",
       "14      0             0        0       0       0              0\n",
       "15      1             0        0       0       0              0\n",
       "16      0             0        0       0       0              0\n",
       "17      0             0        0       0       0              0\n",
       "18      0             0        0       0       0              0\n",
       "19      0             0        0       0       0              0\n",
       "20      0             0        0       0       0              0\n",
       "21      1             1        1       1       1              1\n",
       "22      0             0        0       0       0              0\n",
       "23      0             0        0       0       0              0\n",
       "24      0             0        0       0       0              0\n",
       "25      0             0        0       0       0              0\n",
       "26      0             0        0       0       0              0\n",
       "27      0             0        0       0       0              0\n",
       "28      1             0        1       0       0              1\n",
       "29      0             0        0       0       0              0\n",
       "..    ...           ...      ...     ...     ...            ...\n",
       "70      1             1        1       0       1              1\n",
       "71      1             0        0       0       0              0\n",
       "72      0             0        0       0       0              0\n",
       "73      0             0        0       0       0              0\n",
       "74      1             0        0       0       0              0\n",
       "75      0             0        0       0       0              0\n",
       "76      1             0        1       0       0              0\n",
       "77      0             0        0       0       0              0\n",
       "78      1             0        1       0       0              0\n",
       "79      0             0        0       0       0              0\n",
       "80      0             0        0       0       0              0\n",
       "81      1             0        1       0       1              0\n",
       "82      0             0        0       0       0              0\n",
       "83      0             0        0       0       0              0\n",
       "84      0             0        0       0       0              0\n",
       "85      0             0        0       0       0              0\n",
       "86      0             0        0       0       0              0\n",
       "87      0             0        0       0       0              0\n",
       "88      0             0        0       0       0              0\n",
       "89      0             0        0       0       0              0\n",
       "90      0             0        0       0       0              0\n",
       "91      0             0        0       0       0              0\n",
       "92      1             1        1       0       1              1\n",
       "93      0             0        0       0       0              0\n",
       "94      0             0        0       0       0              0\n",
       "95      0             0        0       0       0              0\n",
       "96      0             0        0       0       0              0\n",
       "97      0             0        0       0       0              0\n",
       "98      0             0        0       0       0              0\n",
       "99      1             1        1       0       1              1\n",
       "\n",
       "[100 rows x 6 columns]"
      ]
     },
     "execution_count": 163,
     "metadata": {},
     "output_type": "execute_result"
    }
   ],
   "source": [
    "class_df.head(100)"
   ]
  },
  {
   "cell_type": "code",
   "execution_count": 164,
   "metadata": {},
   "outputs": [],
   "source": [
    "#creating final output with test data and its predicted class\n",
    "final_output =pd.concat([test_data,class_df],axis = 1)\n"
   ]
  },
  {
   "cell_type": "code",
   "execution_count": 165,
   "metadata": {},
   "outputs": [
    {
     "data": {
      "text/html": [
       "<div>\n",
       "<style scoped>\n",
       "    .dataframe tbody tr th:only-of-type {\n",
       "        vertical-align: middle;\n",
       "    }\n",
       "\n",
       "    .dataframe tbody tr th {\n",
       "        vertical-align: top;\n",
       "    }\n",
       "\n",
       "    .dataframe thead th {\n",
       "        text-align: right;\n",
       "    }\n",
       "</style>\n",
       "<table border=\"1\" class=\"dataframe\">\n",
       "  <thead>\n",
       "    <tr style=\"text-align: right;\">\n",
       "      <th></th>\n",
       "      <th>id</th>\n",
       "      <th>comment_text</th>\n",
       "      <th>toxic</th>\n",
       "      <th>severe_toxic</th>\n",
       "      <th>obscene</th>\n",
       "      <th>threat</th>\n",
       "      <th>insult</th>\n",
       "      <th>identity_hate</th>\n",
       "    </tr>\n",
       "  </thead>\n",
       "  <tbody>\n",
       "    <tr>\n",
       "      <th>0</th>\n",
       "      <td>00001cee341fdb12</td>\n",
       "      <td>Yo bitch Ja Rule is more succesful then you'll...</td>\n",
       "      <td>1</td>\n",
       "      <td>1</td>\n",
       "      <td>1</td>\n",
       "      <td>1</td>\n",
       "      <td>1</td>\n",
       "      <td>1</td>\n",
       "    </tr>\n",
       "    <tr>\n",
       "      <th>1</th>\n",
       "      <td>0000247867823ef7</td>\n",
       "      <td>== From RfC == \\n\\n The title is fine as it is...</td>\n",
       "      <td>0</td>\n",
       "      <td>0</td>\n",
       "      <td>0</td>\n",
       "      <td>0</td>\n",
       "      <td>0</td>\n",
       "      <td>0</td>\n",
       "    </tr>\n",
       "    <tr>\n",
       "      <th>2</th>\n",
       "      <td>00013b17ad220c46</td>\n",
       "      <td>\" \\n\\n == Sources == \\n\\n * Zawe Ashton on Lap...</td>\n",
       "      <td>0</td>\n",
       "      <td>0</td>\n",
       "      <td>0</td>\n",
       "      <td>0</td>\n",
       "      <td>0</td>\n",
       "      <td>0</td>\n",
       "    </tr>\n",
       "    <tr>\n",
       "      <th>3</th>\n",
       "      <td>00017563c3f7919a</td>\n",
       "      <td>:If you have a look back at the source, the in...</td>\n",
       "      <td>0</td>\n",
       "      <td>0</td>\n",
       "      <td>0</td>\n",
       "      <td>0</td>\n",
       "      <td>0</td>\n",
       "      <td>0</td>\n",
       "    </tr>\n",
       "    <tr>\n",
       "      <th>4</th>\n",
       "      <td>00017695ad8997eb</td>\n",
       "      <td>I don't anonymously edit articles at all.</td>\n",
       "      <td>0</td>\n",
       "      <td>0</td>\n",
       "      <td>0</td>\n",
       "      <td>0</td>\n",
       "      <td>0</td>\n",
       "      <td>0</td>\n",
       "    </tr>\n",
       "  </tbody>\n",
       "</table>\n",
       "</div>"
      ],
      "text/plain": [
       "                 id                                       comment_text  toxic  \\\n",
       "0  00001cee341fdb12  Yo bitch Ja Rule is more succesful then you'll...      1   \n",
       "1  0000247867823ef7  == From RfC == \\n\\n The title is fine as it is...      0   \n",
       "2  00013b17ad220c46  \" \\n\\n == Sources == \\n\\n * Zawe Ashton on Lap...      0   \n",
       "3  00017563c3f7919a  :If you have a look back at the source, the in...      0   \n",
       "4  00017695ad8997eb          I don't anonymously edit articles at all.      0   \n",
       "\n",
       "   severe_toxic  obscene  threat  insult  identity_hate  \n",
       "0             1        1       1       1              1  \n",
       "1             0        0       0       0              0  \n",
       "2             0        0       0       0              0  \n",
       "3             0        0       0       0              0  \n",
       "4             0        0       0       0              0  "
      ]
     },
     "execution_count": 165,
     "metadata": {},
     "output_type": "execute_result"
    }
   ],
   "source": [
    "final_output.head()"
   ]
  },
  {
   "cell_type": "code",
   "execution_count": 167,
   "metadata": {},
   "outputs": [],
   "source": []
  },
  {
   "cell_type": "code",
   "execution_count": 191,
   "metadata": {},
   "outputs": [
    {
     "name": "stderr",
     "output_type": "stream",
     "text": [
      "C:\\Users\\abhis_000\\Anaconda3\\lib\\site-packages\\ipykernel_launcher.py:3: DeprecationWarning: \n",
      ".ix is deprecated. Please use\n",
      ".loc for label based indexing or\n",
      ".iloc for positional indexing\n",
      "\n",
      "See the documentation here:\n",
      "http://pandas.pydata.org/pandas-docs/stable/indexing.html#ix-indexer-is-deprecated\n",
      "  This is separate from the ipykernel package so we can avoid doing imports until\n"
     ]
    }
   ],
   "source": [
    "#putting name of the class into a list named out_class\n",
    "out_class = []\n",
    "for i in range(len(final_output)):\n",
    "    out_class.append(final_output.ix[:,final_output.loc[i] == 1].columns)\n",
    "   "
   ]
  },
  {
   "cell_type": "code",
   "execution_count": 192,
   "metadata": {},
   "outputs": [
    {
     "data": {
      "text/plain": [
       "[Index(['toxic', 'severe_toxic', 'obscene', 'threat', 'insult',\n",
       "        'identity_hate'],\n",
       "       dtype='object'),\n",
       " Index([], dtype='object'),\n",
       " Index([], dtype='object'),\n",
       " Index([], dtype='object'),\n",
       " Index([], dtype='object'),\n",
       " Index([], dtype='object'),\n",
       " Index([], dtype='object'),\n",
       " Index(['toxic'], dtype='object'),\n",
       " Index([], dtype='object'),\n",
       " Index([], dtype='object'),\n",
       " Index([], dtype='object'),\n",
       " Index([], dtype='object'),\n",
       " Index([], dtype='object'),\n",
       " Index([], dtype='object'),\n",
       " Index([], dtype='object'),\n",
       " Index(['toxic'], dtype='object'),\n",
       " Index([], dtype='object'),\n",
       " Index([], dtype='object'),\n",
       " Index([], dtype='object'),\n",
       " Index([], dtype='object'),\n",
       " Index([], dtype='object'),\n",
       " Index(['toxic', 'severe_toxic', 'obscene', 'threat', 'insult',\n",
       "        'identity_hate'],\n",
       "       dtype='object'),\n",
       " Index([], dtype='object'),\n",
       " Index([], dtype='object'),\n",
       " Index([], dtype='object'),\n",
       " Index([], dtype='object'),\n",
       " Index([], dtype='object'),\n",
       " Index([], dtype='object'),\n",
       " Index(['toxic', 'obscene', 'identity_hate'], dtype='object'),\n",
       " Index([], dtype='object'),\n",
       " Index([], dtype='object'),\n",
       " Index([], dtype='object'),\n",
       " Index([], dtype='object'),\n",
       " Index([], dtype='object'),\n",
       " Index([], dtype='object'),\n",
       " Index([], dtype='object'),\n",
       " Index([], dtype='object'),\n",
       " Index([], dtype='object'),\n",
       " Index([], dtype='object'),\n",
       " Index([], dtype='object'),\n",
       " Index([], dtype='object'),\n",
       " Index([], dtype='object'),\n",
       " Index([], dtype='object'),\n",
       " Index([], dtype='object'),\n",
       " Index([], dtype='object'),\n",
       " Index([], dtype='object'),\n",
       " Index([], dtype='object'),\n",
       " Index([], dtype='object'),\n",
       " Index(['toxic', 'severe_toxic', 'obscene', 'insult', 'identity_hate'], dtype='object'),\n",
       " Index([], dtype='object'),\n",
       " Index(['toxic'], dtype='object'),\n",
       " Index([], dtype='object'),\n",
       " Index([], dtype='object'),\n",
       " Index([], dtype='object'),\n",
       " Index([], dtype='object'),\n",
       " Index([], dtype='object'),\n",
       " Index(['toxic'], dtype='object'),\n",
       " Index([], dtype='object'),\n",
       " Index([], dtype='object'),\n",
       " Index(['toxic', 'severe_toxic', 'obscene', 'insult', 'identity_hate'], dtype='object'),\n",
       " Index([], dtype='object'),\n",
       " Index([], dtype='object'),\n",
       " Index([], dtype='object'),\n",
       " Index(['toxic'], dtype='object'),\n",
       " Index([], dtype='object'),\n",
       " Index([], dtype='object'),\n",
       " Index([], dtype='object'),\n",
       " Index([], dtype='object'),\n",
       " Index([], dtype='object'),\n",
       " Index([], dtype='object'),\n",
       " Index(['toxic', 'severe_toxic', 'obscene', 'insult', 'identity_hate'], dtype='object'),\n",
       " Index(['toxic'], dtype='object'),\n",
       " Index([], dtype='object'),\n",
       " Index([], dtype='object'),\n",
       " Index(['toxic'], dtype='object'),\n",
       " Index([], dtype='object'),\n",
       " Index(['toxic', 'obscene'], dtype='object'),\n",
       " Index([], dtype='object'),\n",
       " Index(['toxic', 'obscene'], dtype='object'),\n",
       " Index([], dtype='object'),\n",
       " Index([], dtype='object'),\n",
       " Index(['toxic', 'obscene', 'insult'], dtype='object'),\n",
       " Index([], dtype='object'),\n",
       " Index([], dtype='object'),\n",
       " Index([], dtype='object'),\n",
       " Index([], dtype='object'),\n",
       " Index([], dtype='object'),\n",
       " Index([], dtype='object'),\n",
       " Index([], dtype='object'),\n",
       " Index([], dtype='object'),\n",
       " Index([], dtype='object'),\n",
       " Index([], dtype='object'),\n",
       " Index(['toxic', 'severe_toxic', 'obscene', 'insult', 'identity_hate'], dtype='object'),\n",
       " Index([], dtype='object'),\n",
       " Index([], dtype='object'),\n",
       " Index([], dtype='object'),\n",
       " Index([], dtype='object'),\n",
       " Index([], dtype='object'),\n",
       " Index([], dtype='object'),\n",
       " Index(['toxic', 'severe_toxic', 'obscene', 'insult', 'identity_hate'], dtype='object'),\n",
       " Index([], dtype='object'),\n",
       " Index([], dtype='object'),\n",
       " Index([], dtype='object'),\n",
       " Index([], dtype='object'),\n",
       " Index([], dtype='object'),\n",
       " Index([], dtype='object'),\n",
       " Index(['toxic'], dtype='object'),\n",
       " Index([], dtype='object'),\n",
       " Index([], dtype='object'),\n",
       " Index(['toxic', 'severe_toxic', 'obscene', 'threat', 'insult'], dtype='object'),\n",
       " Index([], dtype='object'),\n",
       " Index(['insult'], dtype='object'),\n",
       " Index([], dtype='object'),\n",
       " Index([], dtype='object'),\n",
       " Index([], dtype='object'),\n",
       " Index([], dtype='object'),\n",
       " Index([], dtype='object'),\n",
       " Index([], dtype='object'),\n",
       " Index(['toxic'], dtype='object'),\n",
       " Index([], dtype='object'),\n",
       " Index([], dtype='object'),\n",
       " Index(['toxic', 'obscene'], dtype='object'),\n",
       " Index([], dtype='object'),\n",
       " Index([], dtype='object'),\n",
       " Index([], dtype='object'),\n",
       " Index([], dtype='object'),\n",
       " Index(['toxic', 'severe_toxic', 'obscene', 'insult', 'identity_hate'], dtype='object'),\n",
       " Index([], dtype='object'),\n",
       " Index([], dtype='object'),\n",
       " Index(['toxic', 'severe_toxic', 'obscene', 'insult', 'identity_hate'], dtype='object'),\n",
       " Index([], dtype='object'),\n",
       " Index(['toxic', 'insult', 'identity_hate'], dtype='object'),\n",
       " Index(['toxic', 'severe_toxic', 'obscene', 'insult'], dtype='object'),\n",
       " Index(['toxic', 'obscene', 'insult'], dtype='object'),\n",
       " Index([], dtype='object'),\n",
       " Index([], dtype='object'),\n",
       " Index(['toxic', 'severe_toxic', 'obscene', 'insult', 'identity_hate'], dtype='object'),\n",
       " Index([], dtype='object'),\n",
       " Index([], dtype='object'),\n",
       " Index([], dtype='object'),\n",
       " Index([], dtype='object'),\n",
       " Index(['insult'], dtype='object'),\n",
       " Index([], dtype='object'),\n",
       " Index(['toxic', 'obscene'], dtype='object'),\n",
       " Index([], dtype='object'),\n",
       " Index([], dtype='object'),\n",
       " Index([], dtype='object'),\n",
       " Index([], dtype='object'),\n",
       " Index([], dtype='object'),\n",
       " Index([], dtype='object'),\n",
       " Index([], dtype='object'),\n",
       " Index([], dtype='object'),\n",
       " Index(['toxic', 'insult'], dtype='object'),\n",
       " Index([], dtype='object'),\n",
       " Index(['toxic'], dtype='object'),\n",
       " Index([], dtype='object'),\n",
       " Index(['toxic'], dtype='object'),\n",
       " Index([], dtype='object'),\n",
       " Index([], dtype='object'),\n",
       " Index([], dtype='object'),\n",
       " Index([], dtype='object'),\n",
       " Index([], dtype='object'),\n",
       " Index(['toxic'], dtype='object'),\n",
       " Index([], dtype='object'),\n",
       " Index([], dtype='object'),\n",
       " Index([], dtype='object'),\n",
       " Index([], dtype='object'),\n",
       " Index([], dtype='object'),\n",
       " Index(['toxic'], dtype='object'),\n",
       " Index([], dtype='object'),\n",
       " Index(['toxic', 'severe_toxic', 'obscene', 'insult', 'identity_hate'], dtype='object'),\n",
       " Index([], dtype='object'),\n",
       " Index(['toxic', 'insult'], dtype='object'),\n",
       " Index([], dtype='object'),\n",
       " Index(['toxic', 'severe_toxic', 'obscene', 'threat', 'insult',\n",
       "        'identity_hate'],\n",
       "       dtype='object'),\n",
       " Index(['toxic', 'severe_toxic', 'obscene', 'insult'], dtype='object'),\n",
       " Index([], dtype='object'),\n",
       " Index([], dtype='object'),\n",
       " Index(['toxic', 'severe_toxic', 'obscene', 'insult', 'identity_hate'], dtype='object'),\n",
       " Index(['toxic', 'obscene'], dtype='object'),\n",
       " Index([], dtype='object'),\n",
       " Index([], dtype='object'),\n",
       " Index([], dtype='object'),\n",
       " Index([], dtype='object'),\n",
       " Index([], dtype='object'),\n",
       " Index([], dtype='object'),\n",
       " Index(['insult', 'identity_hate'], dtype='object'),\n",
       " Index([], dtype='object'),\n",
       " Index(['toxic', 'obscene', 'insult'], dtype='object'),\n",
       " Index(['toxic', 'severe_toxic', 'obscene', 'insult', 'identity_hate'], dtype='object'),\n",
       " Index([], dtype='object'),\n",
       " Index([], dtype='object'),\n",
       " Index(['toxic', 'insult'], dtype='object'),\n",
       " Index(['toxic', 'severe_toxic', 'obscene', 'insult', 'identity_hate'], dtype='object'),\n",
       " Index(['toxic', 'severe_toxic', 'obscene', 'insult'], dtype='object'),\n",
       " Index([], dtype='object'),\n",
       " Index(['toxic'], dtype='object'),\n",
       " Index(['toxic'], dtype='object'),\n",
       " Index([], dtype='object'),\n",
       " Index([], dtype='object'),\n",
       " Index([], dtype='object'),\n",
       " Index(['toxic', 'obscene'], dtype='object'),\n",
       " Index([], dtype='object'),\n",
       " Index([], dtype='object'),\n",
       " Index([], dtype='object'),\n",
       " Index([], dtype='object'),\n",
       " Index([], dtype='object'),\n",
       " Index(['toxic', 'insult', 'identity_hate'], dtype='object'),\n",
       " Index(['toxic', 'insult'], dtype='object'),\n",
       " Index([], dtype='object'),\n",
       " Index([], dtype='object'),\n",
       " Index(['toxic', 'severe_toxic', 'obscene', 'threat', 'insult',\n",
       "        'identity_hate'],\n",
       "       dtype='object'),\n",
       " Index([], dtype='object'),\n",
       " Index([], dtype='object'),\n",
       " Index([], dtype='object'),\n",
       " Index(['toxic', 'obscene', 'insult'], dtype='object'),\n",
       " Index([], dtype='object'),\n",
       " Index([], dtype='object'),\n",
       " Index(['toxic', 'severe_toxic', 'insult', 'identity_hate'], dtype='object'),\n",
       " Index(['toxic'], dtype='object'),\n",
       " Index([], dtype='object'),\n",
       " Index([], dtype='object'),\n",
       " Index([], dtype='object'),\n",
       " Index([], dtype='object'),\n",
       " Index([], dtype='object'),\n",
       " Index([], dtype='object'),\n",
       " Index([], dtype='object'),\n",
       " Index([], dtype='object'),\n",
       " Index([], dtype='object'),\n",
       " Index([], dtype='object'),\n",
       " Index([], dtype='object'),\n",
       " Index([], dtype='object'),\n",
       " Index([], dtype='object'),\n",
       " Index([], dtype='object'),\n",
       " Index([], dtype='object'),\n",
       " Index(['toxic', 'severe_toxic', 'obscene', 'insult'], dtype='object'),\n",
       " Index(['toxic', 'obscene', 'insult'], dtype='object'),\n",
       " Index([], dtype='object'),\n",
       " Index([], dtype='object'),\n",
       " Index([], dtype='object'),\n",
       " Index([], dtype='object'),\n",
       " Index([], dtype='object'),\n",
       " Index([], dtype='object'),\n",
       " Index([], dtype='object'),\n",
       " Index([], dtype='object'),\n",
       " Index([], dtype='object'),\n",
       " Index(['toxic', 'obscene'], dtype='object'),\n",
       " Index([], dtype='object'),\n",
       " Index([], dtype='object'),\n",
       " Index([], dtype='object'),\n",
       " Index([], dtype='object'),\n",
       " Index(['toxic'], dtype='object'),\n",
       " Index(['toxic', 'obscene', 'insult'], dtype='object'),\n",
       " Index([], dtype='object'),\n",
       " Index([], dtype='object'),\n",
       " Index([], dtype='object'),\n",
       " Index(['toxic', 'severe_toxic', 'obscene', 'threat', 'insult',\n",
       "        'identity_hate'],\n",
       "       dtype='object'),\n",
       " Index([], dtype='object'),\n",
       " Index(['obscene'], dtype='object'),\n",
       " Index(['toxic', 'obscene', 'insult'], dtype='object'),\n",
       " Index(['toxic'], dtype='object'),\n",
       " Index([], dtype='object'),\n",
       " Index([], dtype='object'),\n",
       " Index([], dtype='object'),\n",
       " Index([], dtype='object'),\n",
       " Index(['toxic'], dtype='object'),\n",
       " Index([], dtype='object'),\n",
       " Index(['toxic'], dtype='object'),\n",
       " Index([], dtype='object'),\n",
       " Index([], dtype='object'),\n",
       " Index(['toxic'], dtype='object'),\n",
       " Index([], dtype='object'),\n",
       " Index([], dtype='object'),\n",
       " Index([], dtype='object'),\n",
       " Index([], dtype='object'),\n",
       " Index([], dtype='object'),\n",
       " Index([], dtype='object'),\n",
       " Index(['toxic', 'severe_toxic', 'obscene', 'threat', 'insult',\n",
       "        'identity_hate'],\n",
       "       dtype='object'),\n",
       " Index([], dtype='object'),\n",
       " Index(['toxic', 'obscene', 'insult'], dtype='object'),\n",
       " Index([], dtype='object'),\n",
       " Index([], dtype='object'),\n",
       " Index([], dtype='object'),\n",
       " Index([], dtype='object'),\n",
       " Index([], dtype='object'),\n",
       " Index([], dtype='object'),\n",
       " Index([], dtype='object'),\n",
       " Index([], dtype='object'),\n",
       " Index([], dtype='object'),\n",
       " Index([], dtype='object'),\n",
       " Index([], dtype='object'),\n",
       " Index([], dtype='object'),\n",
       " Index([], dtype='object'),\n",
       " Index(['toxic', 'obscene', 'insult'], dtype='object'),\n",
       " Index([], dtype='object'),\n",
       " Index([], dtype='object'),\n",
       " Index([], dtype='object'),\n",
       " Index([], dtype='object'),\n",
       " Index(['toxic', 'severe_toxic', 'obscene', 'insult', 'identity_hate'], dtype='object'),\n",
       " Index(['toxic', 'insult'], dtype='object'),\n",
       " Index([], dtype='object'),\n",
       " Index(['severe_toxic', 'obscene', 'insult', 'identity_hate'], dtype='object'),\n",
       " Index(['toxic', 'severe_toxic', 'obscene', 'threat', 'insult',\n",
       "        'identity_hate'],\n",
       "       dtype='object'),\n",
       " Index(['toxic', 'obscene', 'threat', 'insult'], dtype='object'),\n",
       " Index([], dtype='object'),\n",
       " Index(['toxic', 'severe_toxic', 'obscene', 'insult', 'identity_hate'], dtype='object'),\n",
       " Index([], dtype='object'),\n",
       " Index([], dtype='object'),\n",
       " Index([], dtype='object'),\n",
       " Index(['toxic', 'severe_toxic', 'obscene', 'insult', 'identity_hate'], dtype='object'),\n",
       " Index([], dtype='object'),\n",
       " Index([], dtype='object'),\n",
       " Index(['toxic', 'severe_toxic', 'obscene', 'insult'], dtype='object'),\n",
       " Index([], dtype='object'),\n",
       " Index(['toxic', 'identity_hate'], dtype='object'),\n",
       " Index([], dtype='object'),\n",
       " Index([], dtype='object'),\n",
       " Index([], dtype='object'),\n",
       " Index([], dtype='object'),\n",
       " Index(['toxic', 'severe_toxic', 'obscene', 'threat', 'insult',\n",
       "        'identity_hate'],\n",
       "       dtype='object'),\n",
       " Index(['toxic', 'obscene', 'insult'], dtype='object'),\n",
       " Index([], dtype='object'),\n",
       " Index([], dtype='object'),\n",
       " Index([], dtype='object'),\n",
       " Index([], dtype='object'),\n",
       " Index([], dtype='object'),\n",
       " Index([], dtype='object'),\n",
       " Index([], dtype='object'),\n",
       " Index([], dtype='object'),\n",
       " Index(['toxic'], dtype='object'),\n",
       " Index(['toxic', 'severe_toxic', 'obscene', 'insult', 'identity_hate'], dtype='object'),\n",
       " Index([], dtype='object'),\n",
       " Index(['toxic', 'severe_toxic', 'obscene', 'insult', 'identity_hate'], dtype='object'),\n",
       " Index(['toxic'], dtype='object'),\n",
       " Index([], dtype='object'),\n",
       " Index([], dtype='object'),\n",
       " Index(['toxic', 'obscene', 'insult'], dtype='object'),\n",
       " Index([], dtype='object'),\n",
       " Index(['toxic'], dtype='object'),\n",
       " Index(['toxic', 'severe_toxic', 'obscene', 'insult'], dtype='object'),\n",
       " Index([], dtype='object'),\n",
       " Index([], dtype='object'),\n",
       " Index([], dtype='object'),\n",
       " Index([], dtype='object'),\n",
       " Index([], dtype='object'),\n",
       " Index([], dtype='object'),\n",
       " Index([], dtype='object'),\n",
       " Index(['toxic', 'insult'], dtype='object'),\n",
       " Index([], dtype='object'),\n",
       " Index(['toxic', 'severe_toxic', 'obscene', 'insult', 'identity_hate'], dtype='object'),\n",
       " Index([], dtype='object'),\n",
       " Index([], dtype='object'),\n",
       " Index([], dtype='object'),\n",
       " Index([], dtype='object'),\n",
       " Index([], dtype='object'),\n",
       " Index(['toxic', 'severe_toxic', 'obscene', 'insult', 'identity_hate'], dtype='object'),\n",
       " Index([], dtype='object'),\n",
       " Index(['toxic', 'insult'], dtype='object'),\n",
       " Index([], dtype='object'),\n",
       " Index([], dtype='object'),\n",
       " Index(['toxic', 'severe_toxic', 'obscene', 'threat', 'insult',\n",
       "        'identity_hate'],\n",
       "       dtype='object'),\n",
       " Index(['toxic', 'severe_toxic', 'obscene', 'insult', 'identity_hate'], dtype='object'),\n",
       " Index(['toxic', 'insult'], dtype='object'),\n",
       " Index([], dtype='object'),\n",
       " Index(['toxic', 'severe_toxic', 'obscene', 'insult', 'identity_hate'], dtype='object'),\n",
       " Index([], dtype='object'),\n",
       " Index([], dtype='object'),\n",
       " Index([], dtype='object'),\n",
       " Index(['toxic', 'severe_toxic', 'obscene', 'insult', 'identity_hate'], dtype='object'),\n",
       " Index([], dtype='object'),\n",
       " Index(['toxic', 'obscene', 'threat', 'insult'], dtype='object'),\n",
       " Index([], dtype='object'),\n",
       " Index(['toxic', 'obscene', 'insult'], dtype='object'),\n",
       " Index([], dtype='object'),\n",
       " Index([], dtype='object'),\n",
       " Index([], dtype='object'),\n",
       " Index(['toxic', 'obscene', 'insult'], dtype='object'),\n",
       " Index([], dtype='object'),\n",
       " Index([], dtype='object'),\n",
       " Index([], dtype='object'),\n",
       " Index(['toxic', 'severe_toxic', 'obscene', 'insult', 'identity_hate'], dtype='object'),\n",
       " Index([], dtype='object'),\n",
       " Index([], dtype='object'),\n",
       " Index([], dtype='object'),\n",
       " Index([], dtype='object'),\n",
       " Index([], dtype='object'),\n",
       " Index([], dtype='object'),\n",
       " Index([], dtype='object'),\n",
       " Index([], dtype='object'),\n",
       " Index([], dtype='object'),\n",
       " Index([], dtype='object'),\n",
       " Index(['toxic', 'severe_toxic', 'obscene', 'threat', 'insult',\n",
       "        'identity_hate'],\n",
       "       dtype='object'),\n",
       " Index([], dtype='object'),\n",
       " Index([], dtype='object'),\n",
       " Index([], dtype='object'),\n",
       " Index(['identity_hate'], dtype='object'),\n",
       " Index([], dtype='object'),\n",
       " Index(['toxic', 'obscene', 'insult'], dtype='object'),\n",
       " Index([], dtype='object'),\n",
       " Index(['obscene'], dtype='object'),\n",
       " Index([], dtype='object'),\n",
       " Index([], dtype='object'),\n",
       " Index([], dtype='object'),\n",
       " Index(['toxic'], dtype='object'),\n",
       " Index(['toxic', 'threat'], dtype='object'),\n",
       " Index([], dtype='object'),\n",
       " Index([], dtype='object'),\n",
       " Index(['toxic', 'obscene'], dtype='object'),\n",
       " Index([], dtype='object'),\n",
       " Index([], dtype='object'),\n",
       " Index([], dtype='object'),\n",
       " Index([], dtype='object'),\n",
       " Index([], dtype='object'),\n",
       " Index([], dtype='object'),\n",
       " Index([], dtype='object'),\n",
       " Index([], dtype='object'),\n",
       " Index(['toxic', 'severe_toxic', 'obscene', 'insult'], dtype='object'),\n",
       " Index([], dtype='object'),\n",
       " Index([], dtype='object'),\n",
       " Index([], dtype='object'),\n",
       " Index([], dtype='object'),\n",
       " Index([], dtype='object'),\n",
       " Index([], dtype='object'),\n",
       " Index([], dtype='object'),\n",
       " Index([], dtype='object'),\n",
       " Index(['toxic', 'severe_toxic', 'obscene', 'threat', 'insult',\n",
       "        'identity_hate'],\n",
       "       dtype='object'),\n",
       " Index(['toxic', 'obscene', 'insult'], dtype='object'),\n",
       " Index(['toxic', 'severe_toxic', 'obscene', 'insult'], dtype='object'),\n",
       " Index([], dtype='object'),\n",
       " Index([], dtype='object'),\n",
       " Index([], dtype='object'),\n",
       " Index([], dtype='object'),\n",
       " Index(['toxic'], dtype='object'),\n",
       " Index([], dtype='object'),\n",
       " Index([], dtype='object'),\n",
       " Index([], dtype='object'),\n",
       " Index([], dtype='object'),\n",
       " Index(['toxic', 'severe_toxic', 'insult', 'identity_hate'], dtype='object'),\n",
       " Index([], dtype='object'),\n",
       " Index(['toxic', 'obscene', 'insult'], dtype='object'),\n",
       " Index([], dtype='object'),\n",
       " Index([], dtype='object'),\n",
       " Index([], dtype='object'),\n",
       " Index([], dtype='object'),\n",
       " Index(['toxic'], dtype='object'),\n",
       " Index(['toxic', 'obscene', 'threat', 'insult', 'identity_hate'], dtype='object'),\n",
       " Index([], dtype='object'),\n",
       " Index([], dtype='object'),\n",
       " Index(['toxic', 'obscene'], dtype='object'),\n",
       " Index([], dtype='object'),\n",
       " Index([], dtype='object'),\n",
       " Index([], dtype='object'),\n",
       " Index([], dtype='object'),\n",
       " Index([], dtype='object'),\n",
       " Index(['toxic', 'obscene', 'identity_hate'], dtype='object'),\n",
       " Index([], dtype='object'),\n",
       " Index([], dtype='object'),\n",
       " Index([], dtype='object'),\n",
       " Index([], dtype='object'),\n",
       " Index([], dtype='object'),\n",
       " Index([], dtype='object'),\n",
       " Index(['toxic', 'obscene', 'insult'], dtype='object'),\n",
       " Index([], dtype='object'),\n",
       " Index(['toxic', 'insult'], dtype='object'),\n",
       " Index([], dtype='object'),\n",
       " Index(['toxic'], dtype='object'),\n",
       " Index([], dtype='object'),\n",
       " Index(['toxic', 'obscene', 'insult'], dtype='object'),\n",
       " Index([], dtype='object'),\n",
       " Index([], dtype='object'),\n",
       " Index([], dtype='object'),\n",
       " Index([], dtype='object'),\n",
       " Index([], dtype='object'),\n",
       " Index(['toxic', 'obscene', 'insult'], dtype='object'),\n",
       " Index(['toxic', 'obscene', 'insult', 'identity_hate'], dtype='object'),\n",
       " Index(['toxic', 'severe_toxic', 'obscene', 'threat', 'insult',\n",
       "        'identity_hate'],\n",
       "       dtype='object'),\n",
       " Index([], dtype='object'),\n",
       " Index([], dtype='object'),\n",
       " Index([], dtype='object'),\n",
       " Index([], dtype='object'),\n",
       " Index([], dtype='object'),\n",
       " Index(['toxic', 'severe_toxic', 'obscene', 'threat', 'insult',\n",
       "        'identity_hate'],\n",
       "       dtype='object'),\n",
       " Index(['toxic', 'severe_toxic', 'obscene', 'threat', 'insult',\n",
       "        'identity_hate'],\n",
       "       dtype='object'),\n",
       " Index([], dtype='object'),\n",
       " Index(['toxic'], dtype='object'),\n",
       " Index([], dtype='object'),\n",
       " Index([], dtype='object'),\n",
       " Index([], dtype='object'),\n",
       " Index([], dtype='object'),\n",
       " Index([], dtype='object'),\n",
       " Index(['toxic', 'insult', 'identity_hate'], dtype='object'),\n",
       " Index(['toxic', 'severe_toxic', 'obscene', 'insult', 'identity_hate'], dtype='object'),\n",
       " Index(['toxic', 'obscene'], dtype='object'),\n",
       " Index([], dtype='object'),\n",
       " Index(['toxic', 'severe_toxic', 'obscene', 'insult', 'identity_hate'], dtype='object'),\n",
       " Index(['toxic'], dtype='object'),\n",
       " Index([], dtype='object'),\n",
       " Index([], dtype='object'),\n",
       " Index([], dtype='object'),\n",
       " Index(['toxic', 'severe_toxic', 'obscene', 'insult', 'identity_hate'], dtype='object'),\n",
       " Index([], dtype='object'),\n",
       " Index([], dtype='object'),\n",
       " Index([], dtype='object'),\n",
       " Index([], dtype='object'),\n",
       " Index(['toxic', 'severe_toxic', 'obscene', 'threat', 'insult',\n",
       "        'identity_hate'],\n",
       "       dtype='object'),\n",
       " Index([], dtype='object'),\n",
       " Index([], dtype='object'),\n",
       " Index([], dtype='object'),\n",
       " Index(['toxic', 'severe_toxic', 'obscene', 'insult', 'identity_hate'], dtype='object'),\n",
       " Index([], dtype='object'),\n",
       " Index(['toxic', 'obscene', 'insult'], dtype='object'),\n",
       " Index([], dtype='object'),\n",
       " Index([], dtype='object'),\n",
       " Index([], dtype='object'),\n",
       " Index(['toxic', 'obscene', 'insult'], dtype='object'),\n",
       " Index([], dtype='object'),\n",
       " Index([], dtype='object'),\n",
       " Index(['identity_hate'], dtype='object'),\n",
       " Index([], dtype='object'),\n",
       " Index(['toxic', 'severe_toxic', 'obscene', 'threat', 'identity_hate'], dtype='object'),\n",
       " Index([], dtype='object'),\n",
       " Index([], dtype='object'),\n",
       " Index([], dtype='object'),\n",
       " Index(['toxic', 'obscene', 'insult', 'identity_hate'], dtype='object'),\n",
       " Index(['toxic', 'obscene', 'insult'], dtype='object'),\n",
       " Index([], dtype='object'),\n",
       " Index([], dtype='object'),\n",
       " Index(['threat'], dtype='object'),\n",
       " Index([], dtype='object'),\n",
       " Index([], dtype='object'),\n",
       " Index([], dtype='object'),\n",
       " Index([], dtype='object'),\n",
       " Index([], dtype='object'),\n",
       " Index(['toxic', 'obscene', 'insult'], dtype='object'),\n",
       " Index([], dtype='object'),\n",
       " Index([], dtype='object'),\n",
       " Index(['toxic', 'obscene', 'insult'], dtype='object'),\n",
       " Index([], dtype='object'),\n",
       " Index(['toxic', 'obscene'], dtype='object'),\n",
       " Index([], dtype='object'),\n",
       " Index(['toxic', 'severe_toxic', 'obscene', 'threat', 'insult',\n",
       "        'identity_hate'],\n",
       "       dtype='object'),\n",
       " Index([], dtype='object'),\n",
       " Index([], dtype='object'),\n",
       " Index(['toxic', 'severe_toxic', 'obscene', 'insult'], dtype='object'),\n",
       " Index(['toxic', 'severe_toxic', 'obscene', 'insult'], dtype='object'),\n",
       " Index([], dtype='object'),\n",
       " Index([], dtype='object'),\n",
       " Index([], dtype='object'),\n",
       " Index([], dtype='object'),\n",
       " Index([], dtype='object'),\n",
       " Index([], dtype='object'),\n",
       " Index([], dtype='object'),\n",
       " Index([], dtype='object'),\n",
       " Index([], dtype='object'),\n",
       " Index([], dtype='object'),\n",
       " Index([], dtype='object'),\n",
       " Index([], dtype='object'),\n",
       " Index(['toxic', 'obscene', 'insult'], dtype='object'),\n",
       " Index([], dtype='object'),\n",
       " Index(['toxic', 'severe_toxic', 'obscene', 'insult'], dtype='object'),\n",
       " Index(['toxic'], dtype='object'),\n",
       " Index([], dtype='object'),\n",
       " Index([], dtype='object'),\n",
       " Index(['toxic', 'obscene', 'insult', 'identity_hate'], dtype='object'),\n",
       " Index([], dtype='object'),\n",
       " Index(['toxic'], dtype='object'),\n",
       " Index([], dtype='object'),\n",
       " Index([], dtype='object'),\n",
       " Index(['toxic'], dtype='object'),\n",
       " Index(['toxic', 'identity_hate'], dtype='object'),\n",
       " Index(['toxic', 'insult'], dtype='object'),\n",
       " Index(['toxic', 'obscene', 'insult'], dtype='object'),\n",
       " Index([], dtype='object'),\n",
       " Index(['toxic', 'severe_toxic', 'obscene', 'insult', 'identity_hate'], dtype='object'),\n",
       " Index(['toxic', 'obscene', 'threat', 'insult'], dtype='object'),\n",
       " Index([], dtype='object'),\n",
       " Index([], dtype='object'),\n",
       " Index(['toxic'], dtype='object'),\n",
       " Index([], dtype='object'),\n",
       " Index([], dtype='object'),\n",
       " Index([], dtype='object'),\n",
       " Index(['toxic'], dtype='object'),\n",
       " Index([], dtype='object'),\n",
       " Index([], dtype='object'),\n",
       " Index([], dtype='object'),\n",
       " Index([], dtype='object'),\n",
       " Index([], dtype='object'),\n",
       " Index([], dtype='object'),\n",
       " Index(['toxic', 'severe_toxic', 'obscene', 'insult'], dtype='object'),\n",
       " Index([], dtype='object'),\n",
       " Index([], dtype='object'),\n",
       " Index([], dtype='object'),\n",
       " Index(['toxic', 'obscene'], dtype='object'),\n",
       " Index([], dtype='object'),\n",
       " Index(['toxic', 'obscene', 'insult', 'identity_hate'], dtype='object'),\n",
       " Index(['toxic'], dtype='object'),\n",
       " Index([], dtype='object'),\n",
       " Index([], dtype='object'),\n",
       " Index([], dtype='object'),\n",
       " Index(['toxic', 'obscene'], dtype='object'),\n",
       " Index([], dtype='object'),\n",
       " Index([], dtype='object'),\n",
       " Index([], dtype='object'),\n",
       " Index([], dtype='object'),\n",
       " Index([], dtype='object'),\n",
       " Index([], dtype='object'),\n",
       " Index([], dtype='object'),\n",
       " Index([], dtype='object'),\n",
       " Index([], dtype='object'),\n",
       " Index([], dtype='object'),\n",
       " Index([], dtype='object'),\n",
       " Index([], dtype='object'),\n",
       " Index([], dtype='object'),\n",
       " Index([], dtype='object'),\n",
       " Index([], dtype='object'),\n",
       " Index([], dtype='object'),\n",
       " Index(['toxic'], dtype='object'),\n",
       " Index([], dtype='object'),\n",
       " Index([], dtype='object'),\n",
       " Index([], dtype='object'),\n",
       " Index([], dtype='object'),\n",
       " Index(['toxic', 'severe_toxic', 'obscene', 'insult', 'identity_hate'], dtype='object'),\n",
       " Index([], dtype='object'),\n",
       " Index(['toxic', 'severe_toxic', 'obscene', 'insult', 'identity_hate'], dtype='object'),\n",
       " Index(['toxic', 'severe_toxic', 'obscene', 'insult'], dtype='object'),\n",
       " Index([], dtype='object'),\n",
       " Index(['toxic', 'obscene', 'insult'], dtype='object'),\n",
       " Index(['toxic', 'severe_toxic', 'obscene', 'insult'], dtype='object'),\n",
       " Index(['toxic', 'obscene'], dtype='object'),\n",
       " Index([], dtype='object'),\n",
       " Index(['toxic', 'severe_toxic', 'obscene', 'insult', 'identity_hate'], dtype='object'),\n",
       " Index([], dtype='object'),\n",
       " Index([], dtype='object'),\n",
       " Index([], dtype='object'),\n",
       " Index([], dtype='object'),\n",
       " Index([], dtype='object'),\n",
       " Index([], dtype='object'),\n",
       " Index(['toxic'], dtype='object'),\n",
       " Index(['toxic', 'obscene', 'insult'], dtype='object'),\n",
       " Index([], dtype='object'),\n",
       " Index(['toxic', 'obscene'], dtype='object'),\n",
       " Index([], dtype='object'),\n",
       " Index([], dtype='object'),\n",
       " Index([], dtype='object'),\n",
       " Index(['toxic', 'insult', 'identity_hate'], dtype='object'),\n",
       " Index([], dtype='object'),\n",
       " Index([], dtype='object'),\n",
       " Index(['toxic', 'obscene', 'insult'], dtype='object'),\n",
       " Index(['toxic', 'severe_toxic', 'obscene', 'threat', 'insult',\n",
       "        'identity_hate'],\n",
       "       dtype='object'),\n",
       " Index(['toxic', 'obscene', 'insult', 'identity_hate'], dtype='object'),\n",
       " Index([], dtype='object'),\n",
       " Index([], dtype='object'),\n",
       " Index([], dtype='object'),\n",
       " Index(['toxic', 'severe_toxic', 'obscene', 'threat', 'insult',\n",
       "        'identity_hate'],\n",
       "       dtype='object'),\n",
       " Index([], dtype='object'),\n",
       " Index([], dtype='object'),\n",
       " Index([], dtype='object'),\n",
       " Index([], dtype='object'),\n",
       " Index(['toxic', 'severe_toxic', 'insult', 'identity_hate'], dtype='object'),\n",
       " Index([], dtype='object'),\n",
       " Index([], dtype='object'),\n",
       " Index([], dtype='object'),\n",
       " Index([], dtype='object'),\n",
       " Index([], dtype='object'),\n",
       " Index(['toxic', 'obscene', 'insult', 'identity_hate'], dtype='object'),\n",
       " Index([], dtype='object'),\n",
       " Index(['toxic', 'threat', 'insult'], dtype='object'),\n",
       " Index([], dtype='object'),\n",
       " Index([], dtype='object'),\n",
       " Index([], dtype='object'),\n",
       " Index([], dtype='object'),\n",
       " Index(['toxic', 'insult'], dtype='object'),\n",
       " Index([], dtype='object'),\n",
       " Index([], dtype='object'),\n",
       " Index([], dtype='object'),\n",
       " Index([], dtype='object'),\n",
       " Index([], dtype='object'),\n",
       " Index([], dtype='object'),\n",
       " Index(['toxic', 'obscene', 'insult'], dtype='object'),\n",
       " Index([], dtype='object'),\n",
       " Index([], dtype='object'),\n",
       " Index([], dtype='object'),\n",
       " Index([], dtype='object'),\n",
       " Index([], dtype='object'),\n",
       " Index(['toxic'], dtype='object'),\n",
       " Index([], dtype='object'),\n",
       " Index(['toxic', 'severe_toxic', 'obscene', 'insult', 'identity_hate'], dtype='object'),\n",
       " Index([], dtype='object'),\n",
       " Index([], dtype='object'),\n",
       " Index(['toxic', 'severe_toxic', 'obscene', 'threat', 'insult',\n",
       "        'identity_hate'],\n",
       "       dtype='object'),\n",
       " Index(['toxic', 'obscene', 'threat'], dtype='object'),\n",
       " Index([], dtype='object'),\n",
       " Index([], dtype='object'),\n",
       " Index([], dtype='object'),\n",
       " Index(['obscene'], dtype='object'),\n",
       " Index(['toxic', 'insult'], dtype='object'),\n",
       " Index([], dtype='object'),\n",
       " Index([], dtype='object'),\n",
       " Index([], dtype='object'),\n",
       " Index([], dtype='object'),\n",
       " Index([], dtype='object'),\n",
       " Index(['toxic', 'obscene', 'threat', 'insult'], dtype='object'),\n",
       " Index(['toxic', 'obscene'], dtype='object'),\n",
       " Index([], dtype='object'),\n",
       " Index([], dtype='object'),\n",
       " Index(['toxic'], dtype='object'),\n",
       " Index([], dtype='object'),\n",
       " Index([], dtype='object'),\n",
       " Index([], dtype='object'),\n",
       " Index([], dtype='object'),\n",
       " Index([], dtype='object'),\n",
       " Index([], dtype='object'),\n",
       " Index(['toxic', 'obscene', 'threat', 'insult'], dtype='object'),\n",
       " Index(['toxic', 'obscene', 'insult', 'identity_hate'], dtype='object'),\n",
       " Index([], dtype='object'),\n",
       " Index([], dtype='object'),\n",
       " Index([], dtype='object'),\n",
       " Index([], dtype='object'),\n",
       " Index(['toxic'], dtype='object'),\n",
       " Index([], dtype='object'),\n",
       " Index([], dtype='object'),\n",
       " Index([], dtype='object'),\n",
       " Index([], dtype='object'),\n",
       " Index([], dtype='object'),\n",
       " Index([], dtype='object'),\n",
       " Index([], dtype='object'),\n",
       " Index([], dtype='object'),\n",
       " Index([], dtype='object'),\n",
       " Index(['toxic', 'obscene'], dtype='object'),\n",
       " Index(['toxic', 'obscene', 'insult'], dtype='object'),\n",
       " Index([], dtype='object'),\n",
       " Index([], dtype='object'),\n",
       " Index(['toxic', 'severe_toxic', 'obscene', 'insult', 'identity_hate'], dtype='object'),\n",
       " Index([], dtype='object'),\n",
       " Index([], dtype='object'),\n",
       " Index([], dtype='object'),\n",
       " Index(['toxic'], dtype='object'),\n",
       " Index(['toxic'], dtype='object'),\n",
       " Index([], dtype='object'),\n",
       " Index([], dtype='object'),\n",
       " Index([], dtype='object'),\n",
       " Index([], dtype='object'),\n",
       " Index([], dtype='object'),\n",
       " Index(['identity_hate'], dtype='object'),\n",
       " Index([], dtype='object'),\n",
       " Index(['insult'], dtype='object'),\n",
       " Index([], dtype='object'),\n",
       " Index([], dtype='object'),\n",
       " Index([], dtype='object'),\n",
       " Index([], dtype='object'),\n",
       " Index([], dtype='object'),\n",
       " Index(['toxic', 'severe_toxic', 'obscene', 'insult', 'identity_hate'], dtype='object'),\n",
       " Index(['toxic', 'obscene', 'insult'], dtype='object'),\n",
       " Index([], dtype='object'),\n",
       " Index([], dtype='object'),\n",
       " Index([], dtype='object'),\n",
       " Index([], dtype='object'),\n",
       " Index(['toxic', 'insult'], dtype='object'),\n",
       " Index([], dtype='object'),\n",
       " Index([], dtype='object'),\n",
       " Index([], dtype='object'),\n",
       " Index([], dtype='object'),\n",
       " Index([], dtype='object'),\n",
       " Index(['toxic', 'severe_toxic', 'obscene', 'insult', 'identity_hate'], dtype='object'),\n",
       " Index([], dtype='object'),\n",
       " Index(['toxic', 'obscene', 'insult'], dtype='object'),\n",
       " Index([], dtype='object'),\n",
       " Index([], dtype='object'),\n",
       " Index([], dtype='object'),\n",
       " Index(['toxic', 'severe_toxic', 'obscene', 'insult', 'identity_hate'], dtype='object'),\n",
       " Index(['insult'], dtype='object'),\n",
       " Index([], dtype='object'),\n",
       " Index([], dtype='object'),\n",
       " Index([], dtype='object'),\n",
       " Index(['toxic'], dtype='object'),\n",
       " Index([], dtype='object'),\n",
       " Index(['toxic', 'obscene', 'insult'], dtype='object'),\n",
       " Index([], dtype='object'),\n",
       " Index(['toxic'], dtype='object'),\n",
       " Index(['toxic', 'obscene'], dtype='object'),\n",
       " Index([], dtype='object'),\n",
       " Index([], dtype='object'),\n",
       " Index(['toxic', 'severe_toxic', 'obscene', 'insult', 'identity_hate'], dtype='object'),\n",
       " Index([], dtype='object'),\n",
       " Index([], dtype='object'),\n",
       " Index([], dtype='object'),\n",
       " Index(['toxic', 'severe_toxic', 'obscene', 'insult', 'identity_hate'], dtype='object'),\n",
       " Index([], dtype='object'),\n",
       " Index([], dtype='object'),\n",
       " Index([], dtype='object'),\n",
       " Index([], dtype='object'),\n",
       " Index(['toxic', 'insult'], dtype='object'),\n",
       " Index([], dtype='object'),\n",
       " Index([], dtype='object'),\n",
       " Index([], dtype='object'),\n",
       " Index([], dtype='object'),\n",
       " Index([], dtype='object'),\n",
       " Index([], dtype='object'),\n",
       " Index(['toxic', 'insult'], dtype='object'),\n",
       " Index([], dtype='object'),\n",
       " Index(['toxic', 'severe_toxic', 'obscene', 'insult', 'identity_hate'], dtype='object'),\n",
       " Index([], dtype='object'),\n",
       " Index([], dtype='object'),\n",
       " Index(['toxic', 'severe_toxic', 'obscene', 'insult'], dtype='object'),\n",
       " Index([], dtype='object'),\n",
       " Index(['toxic'], dtype='object'),\n",
       " Index([], dtype='object'),\n",
       " Index(['obscene'], dtype='object'),\n",
       " Index([], dtype='object'),\n",
       " Index([], dtype='object'),\n",
       " Index([], dtype='object'),\n",
       " Index([], dtype='object'),\n",
       " Index(['toxic', 'severe_toxic', 'obscene', 'threat', 'insult',\n",
       "        'identity_hate'],\n",
       "       dtype='object'),\n",
       " Index(['toxic', 'severe_toxic', 'obscene', 'threat', 'insult',\n",
       "        'identity_hate'],\n",
       "       dtype='object'),\n",
       " Index([], dtype='object'),\n",
       " Index([], dtype='object'),\n",
       " Index([], dtype='object'),\n",
       " Index(['toxic', 'obscene', 'threat', 'insult'], dtype='object'),\n",
       " Index([], dtype='object'),\n",
       " Index([], dtype='object'),\n",
       " Index([], dtype='object'),\n",
       " Index([], dtype='object'),\n",
       " Index([], dtype='object'),\n",
       " Index([], dtype='object'),\n",
       " Index([], dtype='object'),\n",
       " Index([], dtype='object'),\n",
       " Index([], dtype='object'),\n",
       " Index([], dtype='object'),\n",
       " Index(['toxic'], dtype='object'),\n",
       " Index([], dtype='object'),\n",
       " Index(['toxic', 'insult'], dtype='object'),\n",
       " Index([], dtype='object'),\n",
       " Index([], dtype='object'),\n",
       " Index([], dtype='object'),\n",
       " Index(['toxic', 'severe_toxic', 'obscene', 'insult'], dtype='object'),\n",
       " Index(['toxic', 'threat'], dtype='object'),\n",
       " Index([], dtype='object'),\n",
       " Index(['toxic', 'severe_toxic', 'obscene', 'insult', 'identity_hate'], dtype='object'),\n",
       " Index([], dtype='object'),\n",
       " Index([], dtype='object'),\n",
       " Index([], dtype='object'),\n",
       " Index([], dtype='object'),\n",
       " Index([], dtype='object'),\n",
       " Index([], dtype='object'),\n",
       " Index(['toxic', 'severe_toxic', 'obscene', 'threat', 'insult',\n",
       "        'identity_hate'],\n",
       "       dtype='object'),\n",
       " Index(['toxic'], dtype='object'),\n",
       " Index(['toxic', 'insult'], dtype='object'),\n",
       " Index([], dtype='object'),\n",
       " Index(['toxic', 'obscene', 'insult', 'identity_hate'], dtype='object'),\n",
       " Index(['toxic', 'obscene', 'insult'], dtype='object'),\n",
       " Index([], dtype='object'),\n",
       " Index([], dtype='object'),\n",
       " Index([], dtype='object'),\n",
       " Index([], dtype='object'),\n",
       " Index([], dtype='object'),\n",
       " Index(['toxic', 'severe_toxic', 'obscene', 'insult'], dtype='object'),\n",
       " Index([], dtype='object'),\n",
       " Index(['toxic'], dtype='object'),\n",
       " Index([], dtype='object'),\n",
       " Index(['toxic', 'severe_toxic', 'obscene', 'insult', 'identity_hate'], dtype='object'),\n",
       " Index([], dtype='object'),\n",
       " Index([], dtype='object'),\n",
       " Index([], dtype='object'),\n",
       " Index([], dtype='object'),\n",
       " Index([], dtype='object'),\n",
       " Index(['toxic', 'severe_toxic', 'obscene', 'threat', 'insult'], dtype='object'),\n",
       " Index([], dtype='object'),\n",
       " Index([], dtype='object'),\n",
       " Index([], dtype='object'),\n",
       " Index([], dtype='object'),\n",
       " Index(['toxic', 'obscene', 'insult'], dtype='object'),\n",
       " Index([], dtype='object'),\n",
       " Index(['toxic', 'obscene', 'insult'], dtype='object'),\n",
       " Index(['toxic', 'obscene', 'insult'], dtype='object'),\n",
       " Index([], dtype='object'),\n",
       " Index([], dtype='object'),\n",
       " Index([], dtype='object'),\n",
       " Index(['toxic', 'obscene', 'insult'], dtype='object'),\n",
       " Index([], dtype='object'),\n",
       " Index(['toxic', 'obscene', 'insult'], dtype='object'),\n",
       " Index(['toxic', 'obscene', 'insult'], dtype='object'),\n",
       " Index(['toxic', 'obscene', 'threat', 'insult'], dtype='object'),\n",
       " Index([], dtype='object'),\n",
       " Index(['toxic', 'obscene', 'insult'], dtype='object'),\n",
       " Index(['identity_hate'], dtype='object'),\n",
       " Index([], dtype='object'),\n",
       " Index([], dtype='object'),\n",
       " Index(['toxic', 'severe_toxic', 'obscene', 'insult', 'identity_hate'], dtype='object'),\n",
       " Index([], dtype='object'),\n",
       " Index([], dtype='object'),\n",
       " Index(['toxic', 'obscene'], dtype='object'),\n",
       " Index([], dtype='object'),\n",
       " Index([], dtype='object'),\n",
       " Index([], dtype='object'),\n",
       " Index([], dtype='object'),\n",
       " Index([], dtype='object'),\n",
       " Index([], dtype='object'),\n",
       " Index([], dtype='object'),\n",
       " Index(['toxic', 'insult'], dtype='object'),\n",
       " Index([], dtype='object'),\n",
       " Index([], dtype='object'),\n",
       " Index(['toxic', 'obscene', 'insult'], dtype='object'),\n",
       " Index([], dtype='object'),\n",
       " Index(['toxic', 'obscene', 'threat', 'insult'], dtype='object'),\n",
       " Index(['toxic'], dtype='object'),\n",
       " Index([], dtype='object'),\n",
       " Index([], dtype='object'),\n",
       " Index([], dtype='object'),\n",
       " Index([], dtype='object'),\n",
       " Index([], dtype='object'),\n",
       " Index([], dtype='object'),\n",
       " Index([], dtype='object'),\n",
       " Index([], dtype='object'),\n",
       " Index(['toxic', 'threat', 'insult', 'identity_hate'], dtype='object'),\n",
       " Index([], dtype='object'),\n",
       " Index(['toxic', 'severe_toxic', 'obscene', 'insult', 'identity_hate'], dtype='object'),\n",
       " Index([], dtype='object'),\n",
       " Index([], dtype='object'),\n",
       " Index([], dtype='object'),\n",
       " Index([], dtype='object'),\n",
       " Index([], dtype='object'),\n",
       " Index([], dtype='object'),\n",
       " Index([], dtype='object'),\n",
       " Index([], dtype='object'),\n",
       " Index([], dtype='object'),\n",
       " Index(['toxic', 'severe_toxic', 'obscene', 'insult'], dtype='object'),\n",
       " Index([], dtype='object'),\n",
       " Index(['toxic', 'obscene', 'insult'], dtype='object'),\n",
       " Index([], dtype='object'),\n",
       " Index([], dtype='object'),\n",
       " Index(['toxic', 'obscene', 'threat', 'insult', 'identity_hate'], dtype='object'),\n",
       " Index([], dtype='object'),\n",
       " Index(['toxic'], dtype='object'),\n",
       " Index(['toxic', 'obscene', 'insult'], dtype='object'),\n",
       " Index([], dtype='object'),\n",
       " Index([], dtype='object'),\n",
       " Index([], dtype='object'),\n",
       " Index([], dtype='object'),\n",
       " Index([], dtype='object'),\n",
       " Index([], dtype='object'),\n",
       " Index([], dtype='object'),\n",
       " Index([], dtype='object'),\n",
       " Index([], dtype='object'),\n",
       " Index(['toxic', 'obscene', 'insult'], dtype='object'),\n",
       " Index([], dtype='object'),\n",
       " Index([], dtype='object'),\n",
       " Index([], dtype='object'),\n",
       " Index([], dtype='object'),\n",
       " Index([], dtype='object'),\n",
       " Index([], dtype='object'),\n",
       " Index([], dtype='object'),\n",
       " Index([], dtype='object'),\n",
       " Index(['toxic'], dtype='object'),\n",
       " Index([], dtype='object'),\n",
       " Index([], dtype='object'),\n",
       " Index(['toxic', 'severe_toxic', 'obscene', 'insult', 'identity_hate'], dtype='object'),\n",
       " Index([], dtype='object'),\n",
       " Index([], dtype='object'),\n",
       " Index([], dtype='object'),\n",
       " Index(['obscene', 'insult'], dtype='object'),\n",
       " Index(['obscene'], dtype='object'),\n",
       " Index([], dtype='object'),\n",
       " Index(['toxic', 'severe_toxic', 'obscene', 'threat', 'insult',\n",
       "        'identity_hate'],\n",
       "       dtype='object'),\n",
       " Index([], dtype='object'),\n",
       " Index([], dtype='object'),\n",
       " Index([], dtype='object'),\n",
       " Index(['toxic', 'obscene', 'insult', 'identity_hate'], dtype='object'),\n",
       " Index([], dtype='object'),\n",
       " Index([], dtype='object'),\n",
       " Index(['toxic', 'severe_toxic', 'obscene', 'insult', 'identity_hate'], dtype='object'),\n",
       " Index([], dtype='object'),\n",
       " Index(['toxic', 'obscene', 'insult'], dtype='object'),\n",
       " Index(['toxic', 'obscene', 'insult', 'identity_hate'], dtype='object'),\n",
       " Index([], dtype='object'),\n",
       " Index([], dtype='object'),\n",
       " Index(['toxic', 'severe_toxic', 'obscene', 'insult', 'identity_hate'], dtype='object'),\n",
       " Index([], dtype='object'),\n",
       " Index([], dtype='object'),\n",
       " Index([], dtype='object'),\n",
       " Index([], dtype='object'),\n",
       " Index([], dtype='object'),\n",
       " Index([], dtype='object'),\n",
       " Index(['toxic', 'obscene', 'insult', 'identity_hate'], dtype='object'),\n",
       " Index([], dtype='object'),\n",
       " Index([], dtype='object'),\n",
       " Index([], dtype='object'),\n",
       " Index(['toxic', 'severe_toxic', 'obscene', 'insult', 'identity_hate'], dtype='object'),\n",
       " Index(['toxic', 'obscene', 'insult'], dtype='object'),\n",
       " Index([], dtype='object'),\n",
       " Index([], dtype='object'),\n",
       " Index([], dtype='object'),\n",
       " Index([], dtype='object'),\n",
       " Index(['toxic'], dtype='object'),\n",
       " Index(['toxic', 'insult'], dtype='object'),\n",
       " Index(['toxic', 'severe_toxic', 'obscene', 'insult', 'identity_hate'], dtype='object'),\n",
       " Index([], dtype='object'),\n",
       " Index(['toxic', 'severe_toxic', 'obscene', 'threat', 'insult',\n",
       "        'identity_hate'],\n",
       "       dtype='object'),\n",
       " Index([], dtype='object'),\n",
       " Index([], dtype='object'),\n",
       " Index(['toxic', 'severe_toxic', 'obscene', 'insult', 'identity_hate'], dtype='object'),\n",
       " ...]"
      ]
     },
     "execution_count": 192,
     "metadata": {},
     "output_type": "execute_result"
    }
   ],
   "source": [
    "out_class "
   ]
  },
  {
   "cell_type": "code",
   "execution_count": 199,
   "metadata": {},
   "outputs": [],
   "source": [
    "#creating new column output_class in final_output dataframe\n",
    "final_output['output_class'] = out_class"
   ]
  },
  {
   "cell_type": "code",
   "execution_count": 200,
   "metadata": {},
   "outputs": [
    {
     "data": {
      "text/html": [
       "<div>\n",
       "<style scoped>\n",
       "    .dataframe tbody tr th:only-of-type {\n",
       "        vertical-align: middle;\n",
       "    }\n",
       "\n",
       "    .dataframe tbody tr th {\n",
       "        vertical-align: top;\n",
       "    }\n",
       "\n",
       "    .dataframe thead th {\n",
       "        text-align: right;\n",
       "    }\n",
       "</style>\n",
       "<table border=\"1\" class=\"dataframe\">\n",
       "  <thead>\n",
       "    <tr style=\"text-align: right;\">\n",
       "      <th></th>\n",
       "      <th>id</th>\n",
       "      <th>comment_text</th>\n",
       "      <th>toxic</th>\n",
       "      <th>severe_toxic</th>\n",
       "      <th>obscene</th>\n",
       "      <th>threat</th>\n",
       "      <th>insult</th>\n",
       "      <th>identity_hate</th>\n",
       "      <th>output_class</th>\n",
       "    </tr>\n",
       "  </thead>\n",
       "  <tbody>\n",
       "    <tr>\n",
       "      <th>0</th>\n",
       "      <td>00001cee341fdb12</td>\n",
       "      <td>Yo bitch Ja Rule is more succesful then you'll...</td>\n",
       "      <td>1</td>\n",
       "      <td>1</td>\n",
       "      <td>1</td>\n",
       "      <td>1</td>\n",
       "      <td>1</td>\n",
       "      <td>1</td>\n",
       "      <td>Index(['toxic', 'severe_toxic', 'obscene', 'th...</td>\n",
       "    </tr>\n",
       "    <tr>\n",
       "      <th>1</th>\n",
       "      <td>0000247867823ef7</td>\n",
       "      <td>== From RfC == \\n\\n The title is fine as it is...</td>\n",
       "      <td>0</td>\n",
       "      <td>0</td>\n",
       "      <td>0</td>\n",
       "      <td>0</td>\n",
       "      <td>0</td>\n",
       "      <td>0</td>\n",
       "      <td>Index([], dtype='object')</td>\n",
       "    </tr>\n",
       "    <tr>\n",
       "      <th>2</th>\n",
       "      <td>00013b17ad220c46</td>\n",
       "      <td>\" \\n\\n == Sources == \\n\\n * Zawe Ashton on Lap...</td>\n",
       "      <td>0</td>\n",
       "      <td>0</td>\n",
       "      <td>0</td>\n",
       "      <td>0</td>\n",
       "      <td>0</td>\n",
       "      <td>0</td>\n",
       "      <td>Index([], dtype='object')</td>\n",
       "    </tr>\n",
       "    <tr>\n",
       "      <th>3</th>\n",
       "      <td>00017563c3f7919a</td>\n",
       "      <td>:If you have a look back at the source, the in...</td>\n",
       "      <td>0</td>\n",
       "      <td>0</td>\n",
       "      <td>0</td>\n",
       "      <td>0</td>\n",
       "      <td>0</td>\n",
       "      <td>0</td>\n",
       "      <td>Index([], dtype='object')</td>\n",
       "    </tr>\n",
       "    <tr>\n",
       "      <th>4</th>\n",
       "      <td>00017695ad8997eb</td>\n",
       "      <td>I don't anonymously edit articles at all.</td>\n",
       "      <td>0</td>\n",
       "      <td>0</td>\n",
       "      <td>0</td>\n",
       "      <td>0</td>\n",
       "      <td>0</td>\n",
       "      <td>0</td>\n",
       "      <td>Index([], dtype='object')</td>\n",
       "    </tr>\n",
       "  </tbody>\n",
       "</table>\n",
       "</div>"
      ],
      "text/plain": [
       "                 id                                       comment_text  toxic  \\\n",
       "0  00001cee341fdb12  Yo bitch Ja Rule is more succesful then you'll...      1   \n",
       "1  0000247867823ef7  == From RfC == \\n\\n The title is fine as it is...      0   \n",
       "2  00013b17ad220c46  \" \\n\\n == Sources == \\n\\n * Zawe Ashton on Lap...      0   \n",
       "3  00017563c3f7919a  :If you have a look back at the source, the in...      0   \n",
       "4  00017695ad8997eb          I don't anonymously edit articles at all.      0   \n",
       "\n",
       "   severe_toxic  obscene  threat  insult  identity_hate  \\\n",
       "0             1        1       1       1              1   \n",
       "1             0        0       0       0              0   \n",
       "2             0        0       0       0              0   \n",
       "3             0        0       0       0              0   \n",
       "4             0        0       0       0              0   \n",
       "\n",
       "                                        output_class  \n",
       "0  Index(['toxic', 'severe_toxic', 'obscene', 'th...  \n",
       "1                          Index([], dtype='object')  \n",
       "2                          Index([], dtype='object')  \n",
       "3                          Index([], dtype='object')  \n",
       "4                          Index([], dtype='object')  "
      ]
     },
     "execution_count": 200,
     "metadata": {},
     "output_type": "execute_result"
    }
   ],
   "source": [
    "final_output.head()"
   ]
  },
  {
   "cell_type": "code",
   "execution_count": 201,
   "metadata": {},
   "outputs": [],
   "source": [
    "#saving final output in csv format\n",
    "final_output.to_csv(\"../output/test_output_with_class.csv\")"
   ]
  },
  {
   "cell_type": "code",
   "execution_count": null,
   "metadata": {},
   "outputs": [],
   "source": []
  }
 ],
 "metadata": {
  "kernelspec": {
   "display_name": "Python 3",
   "language": "python",
   "name": "python3"
  },
  "language_info": {
   "codemirror_mode": {
    "name": "ipython",
    "version": 3
   },
   "file_extension": ".py",
   "mimetype": "text/x-python",
   "name": "python",
   "nbconvert_exporter": "python",
   "pygments_lexer": "ipython3",
   "version": "3.6.5"
  }
 },
 "nbformat": 4,
 "nbformat_minor": 2
}
